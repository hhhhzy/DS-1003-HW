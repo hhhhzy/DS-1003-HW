{
 "cells": [
  {
   "cell_type": "markdown",
   "id": "c32f29c8",
   "metadata": {},
   "source": [
    "# HW7"
   ]
  },
  {
   "cell_type": "markdown",
   "id": "398907fe",
   "metadata": {},
   "source": [
    "Name: zh2095\n",
    "    \n",
    "NetID: zh2095"
   ]
  },
  {
   "cell_type": "markdown",
   "id": "b0cc2d09",
   "metadata": {},
   "source": [
    "## Q4"
   ]
  },
  {
   "cell_type": "markdown",
   "id": "5f9e178a",
   "metadata": {},
   "source": [
    "We have \n",
    "$$\\frac{\\partial J}{\\partial W_{ij}}=\\sum_{r=1}^{m}\\frac{\\partial J}{\\partial y_{r}}\\frac{\\partial y_{r}}{\\partial W_{ij}}$$\n",
    "\n",
    "Since \n",
    "$$\\frac{\\partial y_{r}}{\\partial W_{ij}} = \\begin{cases}\n",
    "x_j & r=i\\\\\n",
    "0 & \\text{else}\n",
    "\\end{cases}$$\n",
    "\n",
    "Therefore,\n",
    "$$\\frac{\\partial J}{\\partial W_{ij}} = \\sum_{r=1}^{m}\\frac{\\partial J}{\\partial y_{r}}\\frac{\\partial y_{r}}{\\partial W_{ij}}\n",
    "= \\frac{\\partial J}{\\partial y_{i}}\\frac{\\partial y_{i}}{\\partial W_{ij}}\n",
    "= \\frac{\\partial J}{\\partial y_{i}} x_j$$"
   ]
  },
  {
   "cell_type": "markdown",
   "id": "f17c00e4",
   "metadata": {},
   "source": [
    "## Q5"
   ]
  },
  {
   "cell_type": "markdown",
   "id": "131e6774",
   "metadata": {},
   "source": [
    "$$\\frac{\\partial J}{\\partial W_{ij}}=\\frac{\\partial J}{\\partial y_{i}}x_{j} \\Longrightarrow \n",
    "\\frac{\\partial J}{\\partial W} = \\frac{\\partial J}{\\partial y}\\bigotimes x$$\n",
    "\n"
   ]
  },
  {
   "cell_type": "markdown",
   "id": "2af33621",
   "metadata": {},
   "source": [
    "## Q6"
   ]
  },
  {
   "cell_type": "markdown",
   "id": "7d538a20",
   "metadata": {},
   "source": [
    "For the i-th entry of $\\frac{\\partial J}{\\partial x}$, $\\frac{\\partial J}{\\partial x_i} = \\sum_{r=1}^{m}\\frac{\\partial J}{\\partial y_{r}}\\frac{\\partial y_{r}}{\\partial x_i}\n",
    " = \\sum_{r=1}^{m}\\frac{\\partial J}{\\partial y_{r}} W_{ir}$\n",
    " \n",
    "Therefore, $\\frac{\\partial J}{\\partial x}=W^{T}\\left(\\frac{\\partial J}{\\partial y}\\right)$"
   ]
  },
  {
   "cell_type": "markdown",
   "id": "a54b4c5c",
   "metadata": {},
   "source": [
    "## Q7"
   ]
  },
  {
   "cell_type": "markdown",
   "id": "a80fbcbe",
   "metadata": {},
   "source": [
    "By chain rule, $\\frac{\\partial J}{\\partial b}=\\frac{\\partial J}{\\partial y} \\cdot \\frac{\\partial J}{\\partial b}$\n",
    "\n",
    "Since $\\frac{\\partial J}{\\partial b} = \\frac{Wx+b}{\\partial b} = I$, $\\frac{\\partial J}{\\partial b}=\\frac{\\partial J}{\\partial y} \\cdot I = \\frac{\\partial J}{\\partial y}$"
   ]
  },
  {
   "cell_type": "markdown",
   "id": "713a7fee",
   "metadata": {},
   "source": [
    "## Q8"
   ]
  },
  {
   "cell_type": "markdown",
   "id": "ee9fd282",
   "metadata": {},
   "source": [
    "$$\\begin{eqnarray}\n",
    "\\frac{\\partial J}{\\partial A_i} &=& \\frac{\\partial J}{\\partial S_i} \\cdot \\frac{\\partial S_i}{\\partial A_i} \\\\\n",
    "&=& \\frac{\\partial J}{\\partial [\\sigma(A)]_i} \\cdot \\Big(\\frac{\\partial \\sigma(A)}{\\partial A}\\Big)_i \\\\\n",
    "&=& \\Big(\\frac{\\partial J}{\\partial S}\\Big)_i \\cdot (\\sigma'(A))_i \\\\\n",
    "&=& \\Big(\\frac{\\partial J}{\\partial S} \\odot \\sigma(A)\\Big)_i\n",
    "\\end{eqnarray}$$\n",
    "\n",
    "$$ \\Longrightarrow \\frac{\\partial J}{\\partial A}=\\frac{\\partial J}{\\partial S}\\odot\\sigma'(A)$$"
   ]
  },
  {
   "cell_type": "code",
   "execution_count": null,
   "id": "2b89162e",
   "metadata": {},
   "outputs": [],
   "source": []
  }
 ],
 "metadata": {
  "kernelspec": {
   "display_name": "Python 3",
   "language": "python",
   "name": "python3"
  },
  "language_info": {
   "codemirror_mode": {
    "name": "ipython",
    "version": 3
   },
   "file_extension": ".py",
   "mimetype": "text/x-python",
   "name": "python",
   "nbconvert_exporter": "python",
   "pygments_lexer": "ipython3",
   "version": "3.8.8"
  }
 },
 "nbformat": 4,
 "nbformat_minor": 5
}
