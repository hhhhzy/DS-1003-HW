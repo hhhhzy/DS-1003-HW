{
 "cells": [
  {
   "cell_type": "markdown",
   "metadata": {},
   "source": [
    "# Homework 4"
   ]
  },
  {
   "cell_type": "markdown",
   "metadata": {},
   "source": [
    "Name: Zheyuan Hu\n",
    "    \n",
    "NetId: zh2095"
   ]
  },
  {
   "cell_type": "markdown",
   "metadata": {},
   "source": [
    "## Equivalence of ERM and probabilistic approaches"
   ]
  },
  {
   "cell_type": "markdown",
   "metadata": {},
   "source": [
    "### Q1"
   ]
  },
  {
   "cell_type": "markdown",
   "metadata": {},
   "source": [
    "The logistic loss function is \n",
    "\n",
    "$$\\ell_{\\text{logistic}}(y, w)=\\log\\left(1+\\exp(-yw^Tx)\\right)$$\n",
    "\n",
    "Then the objective funciton of $ERM$ for logistic loss is given by\n",
    "\n",
    "$$\\hat R_n(w) = \\frac 1 n \\sum_{i=1}^{n} \\log\\left(1+\\exp(-y_iw^Tx_i)\\right)$$\n",
    "\n",
    "Define the Bernoulli indicator as\n",
    "\n",
    "$$y_i' = \\begin{cases} 1 & y_i = 1 \\\\\n",
    "0 & y_i = -1 \\end{cases}$$\n",
    "\n",
    "Then we have the negative log-likelihood to be\n",
    "\n",
    "$$\\begin{eqnarray*}\n",
    "NLL_{D}(w) &=& - \\sum_{i=1}^{n} y_i' \\log \\frac{1}{1+\\exp(-w^Tx_i)} + (1-y_i') \\log(1-\\frac{1}{1+\\exp(-w^Tx_i)} \\\\\n",
    "&=& \\sum_{i=1}^{n} - y_i' \\log\\frac{1}{1+\\exp(-w^Tx_i)} + (y_i'-1) \\log(1-\\frac{1}{1+\\exp(-w^Tx_i)})\n",
    "\\end{eqnarray*}$$\n",
    "\n",
    "When $y_i = 1$, that is, $y_i' = 1$,\n",
    "\n",
    "$$ \\log\\left(1+\\exp(-y_iw^Tx_i)\\right) = - y_i' \\log\\frac{1}{1+\\exp(-w^Tx_i)} = \\log\\left(1+\\exp(-w^Tx_i)\\right) $$\n",
    "\n",
    "When $y_i = -1$, that is, $y_i' = 0$,\n",
    "\n",
    "$$ \\log\\left(1+\\exp(-y_iw^Tx_i)\\right) = (y_i'-1) \\log(1-\\frac{1}{1+\\exp(-w^Tx_i)}) =  \\log\\left(1+\\exp(w^Tx_i)\\right) $$\n",
    "\n",
    "Therefore, \n",
    "\n",
    "$$NLL_{D}(w) = n \\hat R_n(w)$$\n",
    "\n",
    "Thus, the two approaches are equivalent."
   ]
  },
  {
   "cell_type": "markdown",
   "metadata": {},
   "source": [
    "## Linearly Separable Data"
   ]
  },
  {
   "cell_type": "markdown",
   "metadata": {},
   "source": [
    "### Q2"
   ]
  },
  {
   "cell_type": "markdown",
   "metadata": {},
   "source": [
    "We predict $y$ by \n",
    "\n",
    "$$\\hat{y} = \\text{sign}(x^Tw)$$\n",
    "\n",
    "that is, for all $i = 1,2,...,n$, we predict $y_i$ by \n",
    "\n",
    "$$\\hat y_i {x_i}^Tw > 0$$\n",
    "\n",
    "Therefore, the decision boundary of logistic regression is given by $\\left\\{x\\colon x^Tw=0\\right\\}$"
   ]
  },
  {
   "cell_type": "markdown",
   "metadata": {},
   "source": [
    "### Q3"
   ]
  },
  {
   "cell_type": "markdown",
   "metadata": {},
   "source": [
    "For $y = 1$, the likelihood function with respect to $c\\hat w$ is given by\n",
    "\n",
    "$$\\begin{eqnarray*}\n",
    "L(c\\hat w) &=& p(y=1 \\mid x; c\\hat w) \\\\\n",
    "&=& 1 / (1 + e^{-x^T c\\hat w)} \\\\\n",
    "&=& (1 + e^{-x^T\\hat w\\cdot c})^{-1}\n",
    "\\end{eqnarray*}$$\n",
    "\n",
    "Take derivative of $L(c\\hat w)$ with respect to $c$, we get\n",
    "\n",
    "$$\\begin{eqnarray*} \n",
    "\\frac {dL}{dc} &=& -(1 + e^{-x^T\\hat w c})^{-2} \\cdot (-x^Tw \\cdot e^{-x^Tw c}) \\\\\n",
    "&=& x^Tw \\cdot e^{-x^Tw c} \\cdot (1 + e^{-x^T\\hat w c})^{-2} \n",
    "\\end{eqnarray*}$$\n",
    "\n",
    "Since all examples are classified correctly,\n",
    "\n",
    "$$x^Tw = y = 1 > 0$$\n",
    "\n",
    "And we also have \n",
    "\n",
    "$$e^{-x^Tw c} > 0,  (1 + e^{-x^T\\hat w c})^{-2} >0$$\n",
    "\n",
    "That is, \n",
    "\n",
    "$$\\frac {dL}{dc} > 0$$\n",
    "\n",
    "Similarly, $\\frac {dL}{dc} > 0$ also holds for $ y = 0$\n",
    "\n",
    "Therefore, as $c$ increases, the likelihood of the data would always increase, which means that MLE is not well-defined in this case.\n"
   ]
  },
  {
   "cell_type": "markdown",
   "metadata": {},
   "source": [
    "## Regularized Logistic Regression"
   ]
  },
  {
   "cell_type": "markdown",
   "metadata": {},
   "source": [
    "### Q4"
   ]
  },
  {
   "cell_type": "markdown",
   "metadata": {},
   "source": [
    "$$\\begin{eqnarray*}\n",
    "J_{\\text{logistic}}(w) & = & \\hat{R}_{n}(w)+\\lambda\\|w\\|^{2}\\\\\n",
    " & = & \\frac{1}{n}\\sum_{i=1}^{n}\\log\\left(1+\\exp\\left(-y^{(i)}w^{T}x^{(i)}\\right)\\right)+\\lambda\\|w\\|^{2}.\n",
    "\\end{eqnarray*}$$\n",
    "\n",
    "From notes 3.1.3, we know that $\\exp\\left(-y^{(i)}w^{T}x^{(i)}\\right)$  is convex ,\n",
    "\n",
    "$$\\begin{eqnarray*}\n",
    "\\exp\\left(-y^{(i)}w^{T}x^{(i)}\\right) \\text{ is convex } &\\Longrightarrow& 1+\\exp\\left(-y^{(i)}w^{T}x^{(i)}\\right) \\text{ is convex } \\\\\n",
    "&\\Longrightarrow& \\log\\left(1+\\exp\\left(-y^{(i)}w^{T}x^{(i)}\\right)\\right) \\text{ is convex } \\\\\n",
    "&\\Longrightarrow&  \\hat R_n(w) \\text{ is convex } \\\\\n",
    "\\end{eqnarray*}$$\n",
    "\n",
    "Also From notes 3.1.3, we know every norm is convex, so\n",
    "$$\\lambda\\|w\\|^{2} \\text{ is convex }$$\n",
    "\n",
    "Thus, the objective function $J_{\\text{logistic}}(w)$ is convex."
   ]
  },
  {
   "cell_type": "markdown",
   "metadata": {},
   "source": [
    "### Q5"
   ]
  },
  {
   "cell_type": "code",
   "execution_count": 1,
   "metadata": {},
   "outputs": [],
   "source": [
    "def f_objective(theta, X, y, l2_param=1):\n",
    "    '''\n",
    "    Args:\n",
    "        theta: 1D numpy array of size num_features\n",
    "        X: 2D numpy array of size (num_instances, num_features)\n",
    "        y: 1D numpy array of size num_instances\n",
    "        l2_param: regularization parameter\n",
    "\n",
    "    Returns:\n",
    "        objective: scalar value of objective function\n",
    "    '''\n",
    "    num_instances = X.shape[0]\n",
    "    num_features = X.shape[1]   \n",
    "    sum_risk = 0   \n",
    "    for i in range(num_instances):\n",
    "        sum_risk += np.logaddexp(0, -y[i]*np.dot(theta,X[i]))\n",
    "    \n",
    "    risk = sum_risk/num_instances\n",
    "    reg = l2_param * np.dot(theta,theta)\n",
    "    objective = risk + reg\n",
    "    return objective"
   ]
  },
  {
   "cell_type": "markdown",
   "metadata": {},
   "source": [
    "### Q6"
   ]
  },
  {
   "cell_type": "code",
   "execution_count": 2,
   "metadata": {},
   "outputs": [],
   "source": [
    "import numpy as np\n",
    "from sklearn.preprocessing import StandardScaler\n",
    "from scipy.optimize import minimize\n",
    "from functools import partial\n",
    "import matplotlib.pyplot as plt"
   ]
  },
  {
   "cell_type": "code",
   "execution_count": 3,
   "metadata": {},
   "outputs": [],
   "source": [
    "# read data\n",
    "X_train = np.genfromtxt('./logistic-code/X_train.txt', delimiter = ',')\n",
    "X_val = np.genfromtxt('./logistic-code/X_val.txt', delimiter = ',')\n",
    "y_train = np.genfromtxt('./logistic-code/y_train.txt', delimiter = ',')\n",
    "y_val = np.genfromtxt('./logistic-code/y_val.txt', delimiter = ',')\n",
    "\n",
    "# change label space from {0,1} to {-1,1}\n",
    "y_train[y_train==0] = -1\n",
    "y_val[y_val==0] = -1\n",
    "\n",
    "# standardize data\n",
    "scaler = StandardScaler()\n",
    "X_train = scaler.fit_transform(X_train)\n",
    "X_val = scaler.fit_transform(X_val)\n",
    "\n",
    "# add bias term\n",
    "bias_train = np.ones([X_train.shape[0], 1])\n",
    "bias_val = np.ones([X_val.shape[0], 1])\n",
    "X_train = np.hstack((X_train, bias_train))\n",
    "X_val = np.hstack((X_val, bias_val))\n"
   ]
  },
  {
   "cell_type": "code",
   "execution_count": 4,
   "metadata": {},
   "outputs": [],
   "source": [
    "def fit_logistic_reg(X, y, objective_function, l2_param=1):\n",
    "    '''\n",
    "    Args:\n",
    "        X: 2D numpy array of size (num_instances, num_features)\n",
    "        y: 1D numpy array of size num_instances\n",
    "        objective_function: function returning the value of the objective\n",
    "        l2_param: regularization parameter\n",
    "        \n",
    "    Returns:\n",
    "        optimal_theta: 1D numpy array of size num_features\n",
    "    '''\n",
    "    num_features = X.shape[1]\n",
    "    theta = np.ones(num_features)\n",
    "    optimal_theta = minimize(objective_function, theta).x  \n",
    "    \n",
    "    return optimal_theta"
   ]
  },
  {
   "cell_type": "code",
   "execution_count": 5,
   "metadata": {},
   "outputs": [],
   "source": [
    "# train the model\n",
    "X = X_train\n",
    "y = y_train\n",
    "objective_function = partial(f_objective, X=X, y=y, l2_param=1)\n",
    "optimal_theta = fit_logistic_reg(X, y, objective_function, l2_param=1)"
   ]
  },
  {
   "cell_type": "code",
   "execution_count": 6,
   "metadata": {},
   "outputs": [
    {
     "data": {
      "text/plain": [
       "array([ 0.00095626, -0.00029962,  0.0030268 ,  0.10532762, -0.00358736,\n",
       "       -0.0013585 , -0.00385288, -0.00079013, -0.00114407, -0.07178432,\n",
       "        0.00654892, -0.00451097,  0.01124928, -0.00386437, -0.00271262,\n",
       "        0.00150363, -0.00278399, -0.0091906 , -0.00682276, -0.01027486,\n",
       "        0.00281868])"
      ]
     },
     "execution_count": 6,
     "metadata": {},
     "output_type": "execute_result"
    }
   ],
   "source": [
    "optimal_theta "
   ]
  },
  {
   "cell_type": "markdown",
   "metadata": {},
   "source": [
    "### Q7"
   ]
  },
  {
   "cell_type": "code",
   "execution_count": 7,
   "metadata": {},
   "outputs": [],
   "source": [
    "l2_param_set = [1e-5, 1e-4, 1e-3, 1e-2, 1e-1, 1, 10]\n",
    "log_L_set = []\n",
    "\n",
    "# train the model for each l2_param\n",
    "for l2_param in l2_param_set:\n",
    "    objective_function = partial(f_objective, X=X_train, y=y_train, l2_param=l2_param)\n",
    "    optimal_theta = fit_logistic_reg(X_train, y_train, objective_function, l2_param)\n",
    "    \n",
    "    # calculate the log loss on the validation set with the optimal theta\n",
    "    log_L = 0    \n",
    "    for i in range(X_val.shape[0]):\n",
    "        log_L += np.logaddexp(0, -y_val[i]*np.dot(optimal_theta,X_val[i]))    \n",
    "    log_L_set.append(log_L)\n",
    "    "
   ]
  },
  {
   "cell_type": "code",
   "execution_count": 8,
   "metadata": {},
   "outputs": [
    {
     "data": {
      "image/png": "[encoded data removed]",
      "text/plain": [
       "<Figure size 720x432 with 1 Axes>"
      ]
     },
     "metadata": {
      "needs_background": "light"
     },
     "output_type": "display_data"
    }
   ],
   "source": [
    "# Plot the log-likelihood for different values of the regularization parameter\n",
    "plt.figure(figsize = (10,6))\n",
    "plt.xscale('log')\n",
    "plt.xlabel('l2_parameter')\n",
    "plt.ylabel('log-likelihood')\n",
    "plt.plot(l2_param_set, log_L_set, 'x-')\n",
    "plt.show()"
   ]
  },
  {
   "cell_type": "code",
   "execution_count": 9,
   "metadata": {},
   "outputs": [
    {
     "name": "stdout",
     "output_type": "stream",
     "text": [
      "The regularization parameter that minimizes the log-likelihood on the validation data is: \n",
      "l2_param =  0.01\n"
     ]
    }
   ],
   "source": [
    "best_param = l2_param_set[np.argmin(log_L_set)]\n",
    "print('The regularization parameter that minimizes the log-likelihood on the validation data is: ')\n",
    "print('l2_param = ', best_param)"
   ]
  },
  {
   "cell_type": "markdown",
   "metadata": {},
   "source": [
    "## Bayesian Logistic Regression with Gaussian Priors"
   ]
  },
  {
   "cell_type": "markdown",
   "metadata": {},
   "source": [
    "### Q9"
   ]
  },
  {
   "cell_type": "markdown",
   "metadata": {},
   "source": [
    "By Bayes rule, we can write the posterior distribution as\n",
    "\n",
    "$$ p(w|D) = \\frac{p(D|w) \\cdot p(w)}{p(D)}$$\n",
    "\n",
    "Consider both sides as function of $w$, for fixed D, then\n",
    "\n",
    "$$ p(w|D) = c \\cdot p(D|w) \\cdot p(w), \\space \\text{ for some constant } c = \\frac {1}{p(D)}$$\n",
    "\n",
    "Also,\n",
    "\n",
    "$$ p(D|w) = L_D(w) = \\exp(-NLL_D(w))$$\n",
    "\n",
    "Therefore,\n",
    "\n",
    "$$ p(w|D) = c \\cdot \\exp(-NLL_D(w)) \\cdot p(w), \\space \\text{ where constant } c = \\frac {1}{p(D)}$$"
   ]
  },
  {
   "cell_type": "markdown",
   "metadata": {},
   "source": [
    "## Q10"
   ]
  },
  {
   "cell_type": "markdown",
   "metadata": {},
   "source": [
    "No, the Gaussian $p(w)$ is not a conjugate prior. \n",
    "\n",
    "From Q9, we know that $p(w|D) = c \\cdot \\exp(-NLL_D(w)) \\cdot p(w)$, where the likelihood function $\\exp(-NLL_D(w))$ is logistic and $p(w)$ is Gaussian.\n",
    "\n",
    "Therefore, $\\exp(-NLL_D(w)) \\cdot p(w)$ will never be Gaussian, that is, the posterior $p(w|D)$ is not in the same family(Gaussian) as $p(w)$."
   ]
  },
  {
   "cell_type": "markdown",
   "metadata": {},
   "source": [
    "### Q11"
   ]
  },
  {
   "cell_type": "markdown",
   "metadata": {},
   "source": [
    "The $MAP$ for $w$ minimizes the negative log posterior of $w$ and the regularized logistic function:\n",
    "\n",
    "$$\\begin{eqnarray*}\n",
    "\\hat w_{MAP} &=& argmin(-\\log p(w|D)) \\\\\n",
    "&=& argmin \\frac 1 n \\sum_{i=1}^{n} \\log (1+\\exp (y_iw^Tx_i)) + \\lambda\\|w\\|^{2} &&&&& (1)\n",
    "\\end{eqnarray*}$$\n",
    "\n",
    "From Q10, we have that\n",
    "\n",
    "$$\\begin{eqnarray*}\n",
    "-\\log p(w|D)) &=& -\\log( c \\cdot \\exp(-NLL_D(w)) \\cdot p(w))\\\\\n",
    "&=& -\\log c + NLL_D(w) - \\log (p(w)) \\\\ \n",
    "\\end{eqnarray*}$$\n",
    "\n",
    "where $c$ is a constant $NLL_D(w) = n \\cdot \\hat R_n(w)$\n",
    "\n",
    "Given the piror $p(w)$ is Gaussian,\n",
    "\n",
    "$$\\log (p(w)) = -\\frac 1 2 \\log(|2 \\pi \\Sigma|) + \\frac 1 2 w^T \\Sigma^{-1} w$$\n",
    "\n",
    "Want to find $\\Sigma$ such that equation (1) holds.\n",
    "\n",
    "Notice that the only term that match with $\\frac 1 2 w^T \\Sigma^{-1} w$ is $\\lambda\\|w\\|^{2}$, and since $NLL_D(w) = n \\cdot \\hat R_n(w)$,  we need to have\n",
    "\n",
    "$$\\frac 1 2 w^T \\Sigma^{-1} w = n \\cdot \\lambda\\|w\\|^{2} $$\n",
    "\n",
    "Solve for $\\Sigma$, we get\n",
    "\n",
    "$$\\Sigma = \\frac {1} {2 n \\lambda} I$$"
   ]
  },
  {
   "cell_type": "markdown",
   "metadata": {},
   "source": [
    "### Q12"
   ]
  },
  {
   "cell_type": "markdown",
   "metadata": {},
   "source": [
    "To have the $ERM$ equal to the $MAP$ estimator, we need\n",
    "\n",
    "$$\\Sigma = \\frac {1} {2 n \\lambda} I$$\n",
    "\n",
    "Here we choose $\\Sigma  = I$, then \n",
    "\n",
    "$$\\lambda = \\frac {1} {2n}$$"
   ]
  },
  {
   "cell_type": "markdown",
   "metadata": {},
   "source": [
    "### Q13"
   ]
  },
  {
   "cell_type": "markdown",
   "metadata": {},
   "source": [
    "$$\\begin{eqnarray*}\n",
    "p(x=H|\\theta_1, \\theta_2) &=& p(x=H,z=H|\\theta_1, \\theta_2) + p(x=H,z=T|\\theta_1, \\theta_2) \\\\\n",
    "&=& p(x=H|z=H, \\theta_2) \\cdot p(z=H|\\theta_1) +  p(x=H|z=T, \\theta_2) \\cdot p(z=T|\\theta_1) \\\\\n",
    "&=& \\theta_2 \\cdot \\theta_1 + 0 \\cdot (1-\\theta_1) \\\\\n",
    "&=& \\theta_1 \\theta_2\n",
    "\\end{eqnarray*}$$"
   ]
  },
  {
   "cell_type": "markdown",
   "metadata": {},
   "source": [
    "### Q14"
   ]
  },
  {
   "cell_type": "markdown",
   "metadata": {},
   "source": [
    "The likelihood of $D_r$ as a function of $\\theta_1$ and $\\theta_2$:\n",
    "\n",
    "$$\\begin{eqnarray*}\n",
    "p(D_r|\\theta_1, \\theta_2) &=& {N_r \\choose n_h} \\cdot (\\theta_1 \\theta_2)^{n_h} \\cdot (1-\\theta_1 \\theta_2)^{n_t}\n",
    "\\end{eqnarray*}$$"
   ]
  },
  {
   "cell_type": "markdown",
   "metadata": {},
   "source": [
    "### Q15"
   ]
  },
  {
   "cell_type": "markdown",
   "metadata": {},
   "source": [
    "No, we only have a dataset with reported results where head is reported with probability $\\theta_1 \\theta_2$ and tail is reported with $1 - \\theta_1 \\theta_2$. This means that we can only use $MLE$ to estimate the parameter $\\theta_1 \\theta_2$, but not $\\theta_1$ and $\\theta_2$ seperately."
   ]
  },
  {
   "cell_type": "markdown",
   "metadata": {},
   "source": [
    "### Q16"
   ]
  },
  {
   "cell_type": "markdown",
   "metadata": {},
   "source": [
    "The likelihood function on the two datasets is:\n",
    "\n",
    "$$\\begin{eqnarray*}\n",
    "L(\\theta_1, \\theta_2) &=& p(D_r,D_c|\\theta_1, \\theta_2) \\\\\n",
    "&=& p(D_r|\\theta_1, \\theta_2) \\cdot p(D_c|\\theta_1) &(D_c \\text{ only depends on } \\theta_1)\\\\\n",
    "&=& {N_r \\choose n_h} \\cdot (\\theta_1 \\theta_2)^{n_h} \\cdot (1-\\theta_1 \\theta_2)^{n_t} \\cdot {N_c \\choose c_h} \\cdot \\theta_{1} ^{c_h} \\cdot (1-\\theta_1 )^{c_t}\n",
    "\\end{eqnarray*}$$\n",
    "\n",
    "Then the log likelihood function is:\n",
    "\n",
    "$$ \\log(L(\\theta_1, \\theta_2)) = \\log{N_r \\choose n_h} + \\log{N_c \\choose c_h} + n_h \\log(\\theta_1 \\theta_2) + n_t \\log(1-\\theta_1 \\theta_2) + c_h \\log\\theta_{1} + c_t \\log(1-\\theta_1)$$\n",
    "\n",
    "We want to find $\\theta_1$ and $\\theta_2$ that maximize the log likelihood, so we take the partial derivatives for $\\theta_1$ and $\\theta_2$:\n",
    "\n",
    "$$\\begin{eqnarray*}\n",
    "\\frac{\\partial \\log(L(\\theta_1, \\theta_2))} {\\partial \\theta_1} &=& \\frac{n_h}{\\theta_1} - \\frac{n_t \\theta_2}{1-\\theta_1 \\theta_2} + \\frac{c_h}{\\theta_1} - \\frac {c_t}{1-\\theta_1} \\\\\n",
    "\\frac{\\partial \\log(L(\\theta_1, \\theta_2))} {\\partial \\theta_2} &=& \\frac{n_h}{\\theta_2} - \\frac{n_t \\theta_1}{1-\\theta_1 \\theta_2}\n",
    "\\end{eqnarray*}$$\n",
    "\n",
    "To have both the partial derivatives equal to 0, we get\n",
    "\n",
    "$$\\begin{eqnarray*}\n",
    "\\theta_1 \\theta_2 &=& \\frac {n_h}{n_h+n_t} \\\\\n",
    "\\theta_1 &=&  \\frac {c_h}{c_h+c_t}\n",
    "\\end{eqnarray*}$$\n",
    "\n",
    "Further solve for $\\theta_2$, the $MLE$ estimate for $\\theta_1$ and $\\theta_2$ is:\n",
    "\n",
    "$$\\begin{eqnarray*}\n",
    "\\theta_1 &=& \\frac {c_h}{c_h+c_t} \\\\\n",
    "\\theta_2 &=& \\frac{n_h(c_h+c_t)}{c_h(n_h+n_t)}\n",
    "\\end{eqnarray*}$$"
   ]
  },
  {
   "cell_type": "markdown",
   "metadata": {},
   "source": [
    "### Q17"
   ]
  },
  {
   "cell_type": "markdown",
   "metadata": {},
   "source": [
    "The prior distribution for $\\theta_1$ is:\n",
    "\n",
    "$$\\theta_1 \\sim Beta(h,t)$$\n",
    "\n",
    "After obtaining the dataset $D_c$, the posterior distribution becomes:\n",
    "\n",
    "$$\\theta_1 \\sim Beta(h+c_h,t+c_t)$$\n",
    "\n",
    "Then the $MAP$ estimate for $\\theta_1$ is the mode of the Beta distribution, which is\n",
    "\n",
    "$$\\theta_1 = \\frac {h+c_h-1}{h+c_h+t+c_t-2}$$\n",
    "\n",
    "From the previous question, we obtain that the $MLE$ for $\\theta_1 \\theta_2$ is\n",
    "\n",
    "$$\\theta_1 \\theta_2 = \\frac {n_h}{n_h+n_t}$$\n",
    "\n",
    "Solve for $\\theta_2$, the $MAP$ estimate for $\\theta_2$ is:\n",
    "\n",
    "$$\\theta_2 = \\frac{n_h(h+c_h+t+c_t-2)}{(n_h+n_t)(h+c_h-1)}$$"
   ]
  }
 ],
 "metadata": {
  "kernelspec": {
   "display_name": "Python 3",
   "language": "python",
   "name": "python3"
  },
  "language_info": {
   "codemirror_mode": {
    "name": "ipython",
    "version": 3
   },
   "file_extension": ".py",
   "mimetype": "text/x-python",
   "name": "python",
   "nbconvert_exporter": "python",
   "pygments_lexer": "ipython3",
   "version": "3.6.12"
  }
 },
 "nbformat": 4,
 "nbformat_minor": 5
}
