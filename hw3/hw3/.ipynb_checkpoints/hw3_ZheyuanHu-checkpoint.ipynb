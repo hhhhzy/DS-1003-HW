{
 "cells": [
  {
   "cell_type": "markdown",
   "id": "naughty-prediction",
   "metadata": {},
   "source": [
    "# Homework 3"
   ]
  },
  {
   "cell_type": "markdown",
   "id": "aggregate-thailand",
   "metadata": {},
   "source": [
    "Name: Zheyuan Hu\n",
    "\n",
    "NetID: zh2095"
   ]
  },
  {
   "cell_type": "markdown",
   "id": "alike-paradise",
   "metadata": {},
   "source": [
    "## Subgradients"
   ]
  },
  {
   "cell_type": "markdown",
   "id": "processed-indiana",
   "metadata": {},
   "source": [
    "### Q1"
   ]
  },
  {
   "cell_type": "markdown",
   "id": "automated-copying",
   "metadata": {},
   "source": [
    "We choose that \n",
    "$$g \\in\\partial f_{k}(x)$$ \n",
    "\n",
    "then $g$ is a subgradient of $f_k$, that is,\n",
    "$$ f_{k}(z)\\ge f_{k}(x)+g^{T}(z-x) \\text{ for all } z$$\n",
    "\n",
    "and \n",
    "$$f_k(x) = f(x)$$\n",
    "\n",
    "so\n",
    "$$f(z)\\ge f(x)+g^{T}(z-x) \\text{ for all } z$$\n",
    "\n",
    "Therefore, by definition,\n",
    "$$g \\in\\partial f(x)$$ "
   ]
  },
  {
   "cell_type": "markdown",
   "id": "alive-surname",
   "metadata": {},
   "source": [
    "### Q2"
   ]
  },
  {
   "cell_type": "markdown",
   "id": "hourly-virginia",
   "metadata": {},
   "source": [
    "A subgradient of  $J(w) = \\max\\left\\{ 0,1-y w^{T} x\\right\\}$ is\n",
    "$$\\begin{eqnarray*}\n",
    "g & = & \\begin{cases}\n",
    "-yx & \\mbox{for }y w^T x<1 \\\\\n",
    "0 & \\mbox{for }y w^{T} x\\ge1\n",
    "\\end{cases}\n",
    "\\end{eqnarray*}$$\n",
    "\n",
    "Justify:\n",
    "\n",
    "When $y w^T x<1$, $$J(w) = \\max\\left\\{ 0,1-y w^{T} x\\right\\} = 1-y w^{T} x$$\n",
    "$g = -yx \\in\\partial (1-y w^{T} x)$, so \n",
    "$$g = -yx \\in\\partial J(w)$$\n",
    "\n",
    "Similarly when $y w^T x \\ge 1$, $$J(w) = \\max\\left\\{ 0,1-y w^{T} x\\right\\} = 0$$\n",
    "$g = 0 \\in\\partial (0)$, so \n",
    "$$g = 0 \\in\\partial J(w)$$"
   ]
  },
  {
   "cell_type": "markdown",
   "id": "valuable-distance",
   "metadata": {},
   "source": [
    "## SVM with the Pegasos algorithm"
   ]
  },
  {
   "cell_type": "markdown",
   "id": "enhanced-flooring",
   "metadata": {},
   "source": [
    "### Q3"
   ]
  },
  {
   "cell_type": "markdown",
   "id": "loose-egypt",
   "metadata": {},
   "source": [
    "The gradient of $J_i(w)$ is not defined at $y_i w^{T} x_i = 1$\n",
    "\n",
    "The expression for the gradient of $J_i(w)$ where it is defined is\n",
    "$$\\begin{eqnarray*}\n",
    "\\nabla J_i(w) & = & \\begin{cases}\n",
    "\\lambda w -y_i x_i & \\mbox{for }y_i w^T x_i<1 \\\\\n",
    "\\lambda w & \\mbox{for }y_i w^{T} x_i>1\n",
    "\\end{cases}\n",
    "\\end{eqnarray*}$$"
   ]
  },
  {
   "cell_type": "markdown",
   "id": "healthy-contamination",
   "metadata": {},
   "source": [
    "### Q4"
   ]
  },
  {
   "cell_type": "markdown",
   "id": "ultimate-dance",
   "metadata": {},
   "source": [
    "When $y_i w^{T} x_i < 1$, \n",
    "$$ J_{i}(w)=\\frac{\\lambda}{2}\\| w\\|^{2} + (1-y_{i}w^{T}x_{i}) $$\n",
    "\n",
    "Let $f_1(w) = \\frac{\\lambda}{2}\\| w\\|^{2}$, $f_2(w) = 1-y_{i}w^{T}x_{i}$, so $J_i = f_1 + f_2$\n",
    "\n",
    "Since $f_1$ and $f_2$ are convex and differentiable,\n",
    "$$ \\partial f_1(w) = \\left\\{\\nabla f_1(w)\\right\\} = \\left\\{\\lambda w\\right\\}$$\n",
    "$$ \\partial f_2(w) = \\left\\{\\nabla f_2(w) \\right\\} = \\left\\{-y_i x_i\\right\\}$$\n",
    "\n",
    "Then\n",
    "$$\\partial J_i(w) = \\partial f_1(w) + \\partial f_2(w) = \\left\\{\\lambda w-y_i x_i\\right\\}$$\n",
    "$$gw = \\lambda w-y_i x_i$$\n",
    "\n",
    "When $y_i w^{T} x_i \\geq 1$,\n",
    "$$ J_{i}(w)=\\frac{\\lambda}{2}\\| w\\|^{2} $$\n",
    "\n",
    "Then $J_{i}(w)$ is convex and differentiable, that is, \n",
    "$$ \\partial J_i(w) = \\left\\{\\nabla J_i(w)\\right\\} = \\left\\{\\lambda w\\right\\}$$\n",
    "$$gw = \\lambda w$$\n",
    "\n",
    "Therefore,\n",
    "$$\\begin{eqnarray*}\n",
    "g{w} & = & \\begin{cases}\n",
    "\\lambda w-y_{i}x_{i} & \\mbox{for }y_{i}w^{T}x_{i}<1\\\\\n",
    "\\lambda w & \\mbox{for }y_{i} w^{T} x_{i}\\ge1.\n",
    "\\end{cases}\n",
    "\\end{eqnarray*}$$"
   ]
  },
  {
   "cell_type": "markdown",
   "id": "loving-swing",
   "metadata": {},
   "source": [
    "## Dataset and sparse representation"
   ]
  },
  {
   "cell_type": "markdown",
   "id": "junior-trance",
   "metadata": {},
   "source": [
    "### Q5"
   ]
  },
  {
   "cell_type": "code",
   "execution_count": 12,
   "id": "endless-playlist",
   "metadata": {},
   "outputs": [],
   "source": [
    "from collections import Counter\n",
    "\n",
    "def bag_of_words(list_words):\n",
    "    '''\n",
    "    converts a list of words into a sparse bag-of-words representation\n",
    "    '''\n",
    "    dict_words = Counter(list_words)\n",
    "    return dict_words"
   ]
  },
  {
   "cell_type": "markdown",
   "id": "hybrid-knowing",
   "metadata": {},
   "source": [
    "### Q6"
   ]
  },
  {
   "cell_type": "code",
   "execution_count": 13,
   "id": "reliable-louisiana",
   "metadata": {},
   "outputs": [],
   "source": [
    "from utils_svm_reviews import *\n",
    "from sklearn.model_selection import train_test_split"
   ]
  },
  {
   "cell_type": "code",
   "execution_count": 14,
   "id": "political-performance",
   "metadata": {},
   "outputs": [],
   "source": [
    "review = load_and_shuffle_data()\n",
    "X = [bag_of_words(x[:-1]) for x in review]\n",
    "y = [x[-1] for x in review]\n",
    "\n",
    "X_train, X_test, y_train, y_test = train_test_split(X, y, test_size = 0.25)"
   ]
  },
  {
   "cell_type": "markdown",
   "id": "incorporated-blowing",
   "metadata": {},
   "source": [
    "### Q7"
   ]
  },
  {
   "cell_type": "code",
   "execution_count": 4,
   "id": "determined-criminal",
   "metadata": {},
   "outputs": [],
   "source": [
    "def pegasos(X, y, lambda_reg, num_epochs):\n",
    "    # initial values\n",
    "    t = 0\n",
    "    w = {}\n",
    "    for x in X:\n",
    "        w.update(x)\n",
    "    w = {i: 0 for i in w} \n",
    "\n",
    "    n = len(X)\n",
    "    for i in range(num_epochs):\n",
    "        for j in range(n):\n",
    "            t = t+1\n",
    "            eta = 1/(t*lambda_reg)\n",
    "\n",
    "            if y[j] * dotProduct(w, X[j]) < 1:\n",
    "                increment(w, -eta*lambda_reg, w)\n",
    "                increment(w, eta*y[j], X[j])\n",
    "            else:\n",
    "                increment(w, -eta*lambda_reg, w)\n",
    "    \n",
    "    return w"
   ]
  },
  {
   "cell_type": "markdown",
   "id": "entertaining-electricity",
   "metadata": {},
   "source": [
    "### Q8"
   ]
  },
  {
   "cell_type": "markdown",
   "id": "drawn-prompt",
   "metadata": {},
   "source": [
    "We have\n",
    "$$\\begin{eqnarray*}\n",
    "w &=& sW \\\\\n",
    "s_{t+1} & = & \\left(1-\\eta_{t}\\lambda\\right)s_{t}\\\\\n",
    "W_{t+1} & = & W_{t}+\\frac{1}{s_{t+1}}\\eta_{t}y_{j}x_{j}\n",
    "\\end{eqnarray*}$$\n",
    "\n",
    "Therefore,\n",
    "\n",
    "$$\\begin{eqnarray*}\n",
    "w_{t+1} &=& s_{t+1} W_{t+1} \\\\\n",
    "&=& \\left(1-\\eta_{t}\\lambda\\right)s_{t} \\cdot (W_{t}+\\frac{1}{\\left(1-\\eta_{t}\\lambda\\right)s_{t}}\\eta_{t}y_{j}x_{j}) \\\\\n",
    "&=& \\left(1-\\eta_{t}\\lambda\\right)s_{t} W_{t} + \\eta_{t}y_{j}x_{j} \\\\\n",
    "&=& \\left(1-\\eta_{t}\\lambda\\right)w_{t} + \\eta_{t}y_{j}x_{j}\n",
    "\\end{eqnarray*}$$\n",
    "\n"
   ]
  },
  {
   "cell_type": "code",
   "execution_count": 5,
   "id": "alike-closer",
   "metadata": {},
   "outputs": [],
   "source": [
    "def pegasos_with_sW(X, y, lambda_reg, num_epochs):\n",
    "    # initial values\n",
    "    s = 1\n",
    "    # start at t = 2 to avoid divided by 0\n",
    "    t = 1\n",
    "    W = {}\n",
    "    for x in X:\n",
    "        W.update(x)\n",
    "    W = {i: 0 for i in W} \n",
    "\n",
    "    n = len(X)\n",
    "    for i in range(num_epochs):\n",
    "        for j in range(n):\n",
    "            t = t+1\n",
    "            eta = 1/(t*lambda_reg)\n",
    "            \n",
    "            if y[j] * dotProduct(W, X[j]) < 1/s:\n",
    "                s = (1-eta*lambda_reg) * s\n",
    "                increment(W, eta*y[j]/s, X[j])\n",
    "            else:\n",
    "                s = (1-eta*lambda_reg) * s\n",
    "    \n",
    "    w = {k: W[k]*s for k in W}\n",
    "    return w    "
   ]
  },
  {
   "cell_type": "markdown",
   "id": "capital-chancellor",
   "metadata": {},
   "source": [
    "### Q9"
   ]
  },
  {
   "cell_type": "markdown",
   "id": "noted-weight",
   "metadata": {},
   "source": [
    "##### Implement the Pegasos algorithm without $ (s, W)$ representation:"
   ]
  },
  {
   "cell_type": "code",
   "execution_count": 6,
   "id": "spatial-corruption",
   "metadata": {},
   "outputs": [
    {
     "name": "stdout",
     "output_type": "stream",
     "text": [
      "The time taken for running 5 epoches of the algorithm w/o (s,W) is 64.32048034667969\n"
     ]
    }
   ],
   "source": [
    "import time\n",
    "\n",
    "# inputs\n",
    "X = X_train\n",
    "y = y_train\n",
    "lambda_reg = 1e-2\n",
    "num_epochs = 5\n",
    "\n",
    "start_time = time.time()\n",
    "w_1 = pegasos(X, y, lambda_reg, num_epochs)\n",
    "\n",
    "time_taken = time.time() - start_time\n",
    "print('The time taken for running %d epoches of the algorithm w/o (s,W) is'%num_epochs, time_taken)"
   ]
  },
  {
   "cell_type": "markdown",
   "id": "binary-strike",
   "metadata": {},
   "source": [
    "##### Implement the Pegasos algorithm with $ (s, W)$ representation:"
   ]
  },
  {
   "cell_type": "code",
   "execution_count": 7,
   "id": "front-payroll",
   "metadata": {},
   "outputs": [
    {
     "name": "stdout",
     "output_type": "stream",
     "text": [
      "The time taken for running 5 epoches of the algorithm w/ (s,W) is 0.6455962657928467\n"
     ]
    }
   ],
   "source": [
    "# inputs\n",
    "X = X_train\n",
    "y = y_train\n",
    "lambda_reg = 1e-2\n",
    "num_epochs = 5\n",
    "\n",
    "start_time = time.time()\n",
    "w_2 = pegasos_with_sW(X, y, lambda_reg, num_epochs)\n",
    "\n",
    "time_taken = time.time() - start_time\n",
    "print('The time taken for running %d epoches of the algorithm w/ (s,W) is'%num_epochs, time_taken)"
   ]
  },
  {
   "cell_type": "markdown",
   "id": "manual-valve",
   "metadata": {},
   "source": [
    "##### Check that the two approaches give essentially the same result:"
   ]
  },
  {
   "cell_type": "code",
   "execution_count": 8,
   "id": "danish-lighter",
   "metadata": {},
   "outputs": [
    {
     "data": {
      "text/plain": [
       "[('at', -3.555081544498462e-05),\n",
       " ('the', 6.75465493578109e-05),\n",
       " ('outset', -2.3108030041407712e-05),\n",
       " ('of', 9.243212016607494e-05),\n",
       " ('swordfish', -3.199573390358368e-05),\n",
       " ('john', -5.3326223170946374e-05),\n",
       " (\"travolta's\", 3.555081544578953e-06),\n",
       " ('gabriel', -6.221392703187334e-05),\n",
       " ('shear', -5.332622317291702e-06),\n",
       " ('is', 5.5103763942521145e-05),\n",
       " ('pontificating', -1.7775407726051962e-06),\n",
       " ('about', -0.0001439808025682776),\n",
       " ('status', 1.066524463441687e-05),\n",
       " ('american', 0.0001368706394708763),\n",
       " ('cinema', 6.221392703409379e-05),\n",
       " ('today', 5.865884549105527e-05),\n",
       " ('basically', -3.0218193132147686e-05),\n",
       " ('he', 0.00010309736480240694),\n",
       " ('says', -1.0665244633695226e-05),\n",
       " ('it', 2.6663111586056054e-05)]"
      ]
     },
     "execution_count": 8,
     "metadata": {},
     "output_type": "execute_result"
    }
   ],
   "source": [
    "diff = {k: w_1[k] - w_2[k] for k in w_1} \n",
    "list(diff.items())[:20]"
   ]
  },
  {
   "cell_type": "markdown",
   "id": "spatial-macedonia",
   "metadata": {},
   "source": [
    "##### We can see that the two weights essentially have no difference"
   ]
  },
  {
   "cell_type": "markdown",
   "id": "center-roads",
   "metadata": {},
   "source": [
    "### Q10"
   ]
  },
  {
   "cell_type": "code",
   "execution_count": 15,
   "id": "fifth-activation",
   "metadata": {},
   "outputs": [],
   "source": [
    "def classification_error(X, y, w):\n",
    "    n = len(y)\n",
    "    e = 0\n",
    "    for i in range(n):\n",
    "        y_pred_i = np.sign(dotProduct(w, X[i]))\n",
    "        if y_pred_i != y[i]:\n",
    "            e += 1\n",
    "        \n",
    "    err = e/n\n",
    "    return err"
   ]
  },
  {
   "cell_type": "code",
   "execution_count": 16,
   "id": "therapeutic-hybrid",
   "metadata": {},
   "outputs": [
    {
     "data": {
      "text/plain": [
       "0.186"
      ]
     },
     "execution_count": 16,
     "metadata": {},
     "output_type": "execute_result"
    }
   ],
   "source": [
    "X = X_test\n",
    "y = y_test\n",
    "classification_error(X, y, w_2)"
   ]
  },
  {
   "cell_type": "markdown",
   "id": "interior-savannah",
   "metadata": {},
   "source": [
    "### Q11"
   ]
  },
  {
   "cell_type": "code",
   "execution_count": 17,
   "id": "unlimited-times",
   "metadata": {},
   "outputs": [
    {
     "data": {
      "image/png": "[encoded data removed]",
      "text/plain": [
       "<Figure size 720x432 with 1 Axes>"
      ]
     },
     "metadata": {
      "needs_background": "light"
     },
     "output_type": "display_data"
    },
    {
     "name": "stdout",
     "output_type": "stream",
     "text": [
      "The minimum test error 0.142 occurs when lambda = 0.009\n"
     ]
    }
   ],
   "source": [
    "import matplotlib.pyplot as plt\n",
    "\n",
    "fig, ax = plt.subplots(figsize=(10,6))\n",
    "lamb_set = [1e-3, 2e-3, 3e-3, 4e-3, 5e-3, 6e-3, 7e-3, 8e-3, 9e-3, 1e-2]\n",
    "err_set = []\n",
    "\n",
    "for lambda_reg in lamb_set:\n",
    "    w = pegasos_with_sW(X_train, y_train, lambda_reg, num_epochs=20)\n",
    "    err = classification_error(X_test, y_test, w)\n",
    "    err_set.append(err)\n",
    "    \n",
    "ax.plot(lamb_set, err_set, 'x--')\n",
    "ax.set_title('Classification Error vs  Lambda')\n",
    "ax.set_xlabel('Lambda')\n",
    "ax.set_ylabel('Test Error')\n",
    "\n",
    "plt.show()\n",
    "\n",
    "min_err = np.min(err_set)\n",
    "best_lamb = lamb_set[np.argmin(err_set)]\n",
    "print('The minimum test error %0.3f occurs when lambda = %0.3f'%(min_err, best_lamb))"
   ]
  },
  {
   "cell_type": "markdown",
   "id": "billion-cassette",
   "metadata": {},
   "source": [
    "## Error Analysis"
   ]
  },
  {
   "cell_type": "markdown",
   "id": "three-extra",
   "metadata": {},
   "source": [
    "### Q12"
   ]
  },
  {
   "cell_type": "code",
   "execution_count": 18,
   "id": "tracked-support",
   "metadata": {},
   "outputs": [],
   "source": [
    "# choose the lambda that gives the minimal error rate\n",
    "lambda_reg = 0.009\n",
    "w = pegasos_with_sW(X_train, y_train, lambda_reg, num_epochs=20)\n",
    "\n",
    "n = len(y_test)\n",
    "# pairs of the score and its corresponding prediction(correct/wrong)\n",
    "pairs = np.zeros([n,2])\n",
    "for i in range(n):    \n",
    "    score = dotProduct(w, X_test[i])\n",
    "    y_pred_i = np.sign(score)\n",
    "    # ind indicates if the score corresponding to a correct prediction\n",
    "    ind = 1 if y_pred_i == y_test[i] else 0\n",
    "    \n",
    "    pairs[i,0] = score\n",
    "    pairs[i,1] = ind\n",
    "# order by absolute value of scores    \n",
    "pairs = np.abs(pairs)\n",
    "pairs = pairs[pairs[:,0].argsort()]"
   ]
  },
  {
   "cell_type": "code",
   "execution_count": 19,
   "id": "affected-search",
   "metadata": {},
   "outputs": [
    {
     "data": {
      "image/png": "[encoded data removed]",
      "text/plain": [
       "<Figure size 720x432 with 1 Axes>"
      ]
     },
     "metadata": {
      "needs_background": "light"
     },
     "output_type": "display_data"
    }
   ],
   "source": [
    "# each group have the same group size\n",
    "num_groups = 10\n",
    "group_size = int(n/num_groups)\n",
    "\n",
    "avg_score_set = []\n",
    "err_rate_set = []\n",
    "for i in range(num_groups):\n",
    "    group = pairs[i*group_size : (i+1)*group_size]\n",
    "    avg_score = np.mean(group[:,0])\n",
    "    err_rate = 1 - np.sum(group[:,1])/group_size\n",
    "    avg_score_set.append(avg_score)\n",
    "    err_rate_set.append(err_rate)\n",
    "\n",
    "fig, ax = plt.subplots(figsize=(10,6))\n",
    "\n",
    "ax.plot(avg_score_set, err_rate_set, 'x--')\n",
    "ax.set_title('Error Rate vs Magnitude Scores')\n",
    "ax.set_xlabel('The average abs(score) of the group')\n",
    "ax.set_ylabel('Error Rate')\n",
    "\n",
    "plt.show()\n"
   ]
  },
  {
   "cell_type": "markdown",
   "id": "internal-figure",
   "metadata": {},
   "source": [
    "##### Essentially, the model predicts more accurate results as the magnitude score goes up."
   ]
  },
  {
   "cell_type": "markdown",
   "id": "saved-spanking",
   "metadata": {},
   "source": [
    "## Ridge Regression: Theory"
   ]
  },
  {
   "cell_type": "markdown",
   "id": "cardiac-antibody",
   "metadata": {},
   "source": [
    "### Q14"
   ]
  },
  {
   "cell_type": "markdown",
   "id": "designing-exception",
   "metadata": {},
   "source": [
    "To minimize $J(w)$, we must have\n",
    "$$\\nabla J(w) = 2 X^{T}X w - 2 X^{T}y + 2 \\lambda I w = 0$$\n",
    "\n",
    "That is,\n",
    "$$ X^{T}X w + \\lambda I w = X^{T}y$$\n",
    "\n",
    "From Appendix A(2), we know that \n",
    "$$X^T X \\text{ is psd}$$\n",
    "\n",
    "then from Appendix B(3)\n",
    "$$X^T X + \\lambda I \\text{ is spd for any }\\lambda > 0$$\n",
    "\n",
    "Finally, from Appendix B(2), we prove that \n",
    "$$X^T X + \\lambda I \\text{ is invertible }$$\n",
    "\n",
    "Therefore, the minimizer of $J(w)$ is the solution to $X^{T}X w + \\lambda I w = X^{T}y$:\n",
    "$$w=(X^{T}X+\\lambda I)^{-1}X^{T}y$$"
   ]
  },
  {
   "cell_type": "markdown",
   "id": "angry-lingerie",
   "metadata": {},
   "source": [
    "### Q15"
   ]
  },
  {
   "cell_type": "markdown",
   "id": "willing-context",
   "metadata": {},
   "source": [
    "$$w=\\frac{1}{\\lambda}(X^{T}y-X^{T}Xw) = X^T[\\frac 1 \\lambda (y-Xw)]$$\n",
    "\n",
    "Therefore, $w$ can be rewritten in the form of $w = X^T \\alpha$, where\n",
    "$$\\alpha = \\frac 1 \\lambda (y-Xw)$$"
   ]
  },
  {
   "cell_type": "markdown",
   "id": "piano-closer",
   "metadata": {},
   "source": [
    "### Q16"
   ]
  },
  {
   "cell_type": "markdown",
   "id": "advisory-banner",
   "metadata": {},
   "source": [
    "We know that $w$ can be written in the form of $w = X^T \\alpha$, that is, $ w=\\sum_{i=1}^{n}\\alpha_{i} x_{i}$, \n",
    "which is a linear combination of the data set $\\{x_i\\}_{i=1}^n$. \n",
    "\n",
    "Therefore, we say $w$ is in the span of the data."
   ]
  },
  {
   "cell_type": "markdown",
   "id": "cellular-greensboro",
   "metadata": {},
   "source": [
    "### Q17"
   ]
  },
  {
   "cell_type": "markdown",
   "id": "ruled-lexington",
   "metadata": {},
   "source": [
    "We have\n",
    "$$\\alpha = \\frac 1 \\lambda (y-Xw)$$\n",
    "\n",
    "Replace $w$ with $w = X^T \\alpha$, and solve for $\\alpha$:\n",
    "$$\\begin{eqnarray*}\n",
    "\\alpha &=& \\frac 1 \\lambda (y-XX^T \\alpha) \\\\\n",
    "\\lambda I \\alpha &=& y - XX^T\\alpha \\\\\n",
    "(XX^T + \\lambda I) \\alpha &=& y \\\\\n",
    "\\alpha &=& (XX^T + \\lambda I)^{-1} y\n",
    "\\end{eqnarray*}$$"
   ]
  },
  {
   "cell_type": "markdown",
   "id": "deadly-excuse",
   "metadata": {},
   "source": [
    "### Q18"
   ]
  },
  {
   "cell_type": "markdown",
   "id": "pending-fabric",
   "metadata": {},
   "source": [
    "Let $K$ be the kernel matrix $XX^T$, then\n",
    "$$\\begin{eqnarray*}\n",
    "Xw &=& XX^T\\alpha  &&&&&&&&&& (w = X^T\\alpha) \\\\\n",
    "&=& XX^T(\\lambda I + XX^T)^{-1}y &&&&&&&&&& (\\alpha = (\\lambda I + XX^T)^{-1}y) \\\\\n",
    "&=& K(\\lambda I + K)^{-1}y\n",
    "\\end{eqnarray*}$$"
   ]
  },
  {
   "cell_type": "markdown",
   "id": "geological-jewelry",
   "metadata": {},
   "source": [
    "### Q19"
   ]
  },
  {
   "cell_type": "markdown",
   "id": "dangerous-rebecca",
   "metadata": {},
   "source": [
    "Define\n",
    "$$k_{x}=\\begin{pmatrix} x^{T} x_{1}\\\\\n",
    "\\vdots\\\\\n",
    "x^{T} x_{n}\n",
    "\\end{pmatrix}$$\n",
    "\n",
    "Then\n",
    "$$k_{x} = x^T X^T$$\n",
    "\n",
    "$$\\begin{eqnarray*}\n",
    "f(x) &=& x^{T} w^{*} \\\\\n",
    "&=& x^T X^T \\alpha^{*} \\\\\n",
    "&=& k_{x} \\alpha^{*}\n",
    "\\end{eqnarray*}$$"
   ]
  },
  {
   "cell_type": "markdown",
   "id": "opponent-banking",
   "metadata": {},
   "source": [
    "## Kernels and Kernel Machines"
   ]
  },
  {
   "cell_type": "code",
   "execution_count": 1,
   "id": "rational-inspiration",
   "metadata": {},
   "outputs": [],
   "source": [
    "import numpy as np\n",
    "import matplotlib.pyplot as plt\n",
    "import sklearn\n",
    "import scipy.spatial\n",
    "import functools\n",
    "\n",
    "%matplotlib inline"
   ]
  },
  {
   "cell_type": "markdown",
   "id": "running-finland",
   "metadata": {},
   "source": [
    "### Q20"
   ]
  },
  {
   "cell_type": "code",
   "execution_count": 2,
   "id": "responsible-hayes",
   "metadata": {},
   "outputs": [],
   "source": [
    "### Kernel function generators\n",
    "def linear_kernel(X1, X2):\n",
    "    \"\"\"\n",
    "    Computes the linear kernel between two sets of vectors.\n",
    "    Args:\n",
    "        X1 - an n1xd matrix with vectors x1_1,...,x1_n1 in the rows\n",
    "        X2 - an n2xd matrix with vectors x2_1,...,x2_n2 in the rows\n",
    "    Returns:\n",
    "        matrix of size n1xn2, with x1_i^T x2_j in position i,j\n",
    "    \"\"\"\n",
    "    return np.dot(X1,np.transpose(X2))\n",
    " \n",
    "def RBF_kernel(X1,X2,sigma):\n",
    "    \"\"\"\n",
    "    Computes the RBF kernel between two sets of vectors   \n",
    "    Args:\n",
    "        X1 - an n1xd matrix with vectors x1_1,...,x1_n1 in the rows\n",
    "        X2 - an n2xd matrix with vectors x2_1,...,x2_n2 in the rows\n",
    "        sigma - the bandwidth (i.e. standard deviation) for the RBF/Gaussian kernel\n",
    "    Returns:\n",
    "        matrix of size n1xn2, with exp(-||x1_i-x2_j||^2/(2 sigma^2)) in position i,j\n",
    "    \"\"\"\n",
    "    #TODO\n",
    "    dist = scipy.spatial.distance.cdist(X1,X2,'sqeuclidean')\n",
    "    return np.exp(-(dist)/(2*sigma**2))\n",
    "\n",
    "def polynomial_kernel(X1, X2, offset, degree):\n",
    "    \"\"\"\n",
    "    Computes the inhomogeneous polynomial kernel between two sets of vectors\n",
    "    Args:\n",
    "        X1 - an n1xd matrix with vectors x1_1,...,x1_n1 in the rows\n",
    "        X2 - an n2xd matrix with vectors x2_1,...,x2_n2 in the rows\n",
    "        offset, degree - two parameters for the kernel\n",
    "    Returns:\n",
    "        matrix of size n1xn2, with (offset + <x1_i,x2_j>)^degree in position i,j\n",
    "    \"\"\"\n",
    "    #TODO\n",
    "    inner = linear_kernel(X1, X2)\n",
    "    return (offset + inner)**degree"
   ]
  },
  {
   "cell_type": "markdown",
   "id": "friendly-clearing",
   "metadata": {},
   "source": [
    "### Q21"
   ]
  },
  {
   "cell_type": "code",
   "execution_count": 3,
   "id": "individual-plaza",
   "metadata": {},
   "outputs": [
    {
     "name": "stdout",
     "output_type": "stream",
     "text": [
      "The kernel matrix on X0 is:\n",
      "[[16  4  0 -8]\n",
      " [ 4  1  0 -2]\n",
      " [ 0  0  0  0]\n",
      " [-8 -2  0  4]]\n"
     ]
    }
   ],
   "source": [
    "X0 = np.array([-4,-1,0,2]).reshape(-1,1)\n",
    "K = linear_kernel(X0, X0)\n",
    "\n",
    "print('The kernel matrix on X0 is:')\n",
    "print(K)"
   ]
  },
  {
   "cell_type": "markdown",
   "id": "primary-tobago",
   "metadata": {},
   "source": [
    "### Q22(a)"
   ]
  },
  {
   "cell_type": "code",
   "execution_count": 4,
   "id": "exceptional-there",
   "metadata": {},
   "outputs": [
    {
     "data": {
      "image/png": "[encoded data removed]",
      "text/plain": [
       "<Figure size 576x360 with 1 Axes>"
      ]
     },
     "metadata": {
      "needs_background": "light"
     },
     "output_type": "display_data"
    }
   ],
   "source": [
    "# PLot kernel machine functions\n",
    "\n",
    "plot_step = .01\n",
    "xpts = np.arange(-6.0, 6, plot_step).reshape(-1,1)\n",
    "prototypes = np.array([-4,-1,0,2]).reshape(-1,1)\n",
    "\n",
    "# Polynomial kernel\n",
    "plt.figure(figsize = (8,5))\n",
    "y_poly = polynomial_kernel(prototypes, xpts, 1, 3) \n",
    "for i in range(len(prototypes)):\n",
    "    label = \"Poly@\"+str(prototypes[i,:])\n",
    "    plt.plot(xpts, y_poly[i,:], label=label)\n",
    "\n",
    "plt.legend(loc = 'best')\n",
    "plt.show() \n"
   ]
  },
  {
   "cell_type": "markdown",
   "id": "extensive-fashion",
   "metadata": {},
   "source": [
    "### Q22(b)"
   ]
  },
  {
   "cell_type": "code",
   "execution_count": 5,
   "id": "protected-packaging",
   "metadata": {},
   "outputs": [
    {
     "data": {
      "image/png": "[encoded data removed]",
      "text/plain": [
       "<Figure size 576x360 with 1 Axes>"
      ]
     },
     "metadata": {
      "needs_background": "light"
     },
     "output_type": "display_data"
    }
   ],
   "source": [
    "# RBF kernel\n",
    "plt.figure(figsize = (8,5))\n",
    "y_RBF = RBF_kernel(prototypes, xpts, 1) \n",
    "for i in range(len(prototypes)):\n",
    "    label = \"RBF@\"+str(prototypes[i,:])\n",
    "    plt.plot(xpts, y_RBF[i,:], label=label)\n",
    "\n",
    "plt.legend(loc = 'best')\n",
    "plt.show() \n"
   ]
  },
  {
   "cell_type": "markdown",
   "id": "difficult-personal",
   "metadata": {},
   "source": [
    "### Q23"
   ]
  },
  {
   "cell_type": "code",
   "execution_count": 6,
   "id": "neutral-muslim",
   "metadata": {},
   "outputs": [],
   "source": [
    "class Kernel_Machine(object):\n",
    "    def __init__(self, kernel, training_points, weights):\n",
    "        \"\"\"\n",
    "        Args:\n",
    "            kernel(X1,X2) - a function return the cross-kernel matrix between rows of X1 and rows of X2 for kernel k\n",
    "            training_points - an nxd matrix with rows x_1,..., x_n\n",
    "            weights - a vector of length n with entries alpha_1,...,alpha_n\n",
    "        \"\"\"\n",
    "\n",
    "        self.kernel = kernel\n",
    "        self.training_points = training_points\n",
    "        self.weights = weights\n",
    "        \n",
    "    def predict(self, X):\n",
    "        \"\"\"\n",
    "        Evaluates the kernel machine on the points given by the rows of X\n",
    "        Args:\n",
    "            X - an nxd matrix with inputs x_1,...,x_n in the rows\n",
    "        Returns:\n",
    "            Vector of kernel machine evaluations on the n points in X.  Specifically, jth entry of return vector is\n",
    "                Sum_{i=1}^R alpha_i k(x_j, mu_i)\n",
    "        \"\"\"\n",
    "        # TODO\n",
    "        K = self.kernel(self.training_points, X)\n",
    "        return np.dot(K.T, self.weights)"
   ]
  },
  {
   "cell_type": "code",
   "execution_count": 7,
   "id": "aware-marijuana",
   "metadata": {},
   "outputs": [
    {
     "data": {
      "image/png": "[encoded data removed]",
      "text/plain": [
       "<Figure size 576x360 with 1 Axes>"
      ]
     },
     "metadata": {
      "needs_background": "light"
     },
     "output_type": "display_data"
    }
   ],
   "source": [
    "from functools import partial\n",
    "\n",
    "# Construct a Kernel Machine object with the RBF kernel\n",
    "training_points = np.array([-1,0,1]).reshape(-1,1)\n",
    "weights = np.array([1,-1,1])\n",
    "kernel = partial(RBF_kernel,sigma=1)\n",
    "machine = Kernel_Machine(kernel, training_points, weights)\n",
    "\n",
    "xpts = np.arange(-6.0, 6, plot_step).reshape(-1,1)\n",
    "y_pred = machine.predict(xpts)\n",
    "\n",
    "#plot the resulting function\n",
    "plt.figure(figsize = (8,5))\n",
    "plot_step = .01\n",
    "plt.plot(xpts, y_pred, label=label)\n",
    "plt.title('The prediction function by RBF Kernel Machine')\n",
    "plt.xlabel('x')\n",
    "plt.ylabel('Predicted y')\n",
    "plt.show()"
   ]
  },
  {
   "cell_type": "markdown",
   "id": "intensive-entrepreneur",
   "metadata": {},
   "source": [
    "## Kernel Ridge Regression: Practice"
   ]
  },
  {
   "cell_type": "markdown",
   "id": "returning-template",
   "metadata": {},
   "source": [
    "### Q24"
   ]
  },
  {
   "cell_type": "code",
   "execution_count": 8,
   "id": "mighty-beverage",
   "metadata": {},
   "outputs": [],
   "source": [
    "data_train,data_test = np.loadtxt(\"krr-train.txt\"),np.loadtxt(\"krr-test.txt\")\n",
    "x_train, y_train = data_train[:,0].reshape(-1,1),data_train[:,1].reshape(-1,1)\n",
    "x_test, y_test = data_test[:,0].reshape(-1,1),data_test[:,1].reshape(-1,1)"
   ]
  },
  {
   "cell_type": "code",
   "execution_count": 9,
   "id": "korean-hydrogen",
   "metadata": {},
   "outputs": [
    {
     "data": {
      "image/png": "[encoded data removed]",
      "text/plain": [
       "<Figure size 576x360 with 1 Axes>"
      ]
     },
     "metadata": {
      "needs_background": "light"
     },
     "output_type": "display_data"
    }
   ],
   "source": [
    "plt.figure(figsize=(8,5))\n",
    "plt.plot(x_train, y_train, 'o')\n",
    "plt.show()"
   ]
  },
  {
   "cell_type": "markdown",
   "id": "august-speaker",
   "metadata": {},
   "source": [
    "### Q25"
   ]
  },
  {
   "cell_type": "code",
   "execution_count": 10,
   "id": "noble-evanescence",
   "metadata": {},
   "outputs": [],
   "source": [
    "def train_kernel_ridge_regression(X, y, kernel, l2reg):\n",
    "    # TODO\n",
    "    K = kernel(X, X)\n",
    "    n = K.shape[0]\n",
    "    alpha = np.linalg.inv((np.identity(n)*l2reg+K)).dot(y)\n",
    "    \n",
    "    return Kernel_Machine(kernel, X, alpha)\n"
   ]
  },
  {
   "cell_type": "markdown",
   "id": "future-malaysia",
   "metadata": {},
   "source": [
    "### Q26"
   ]
  },
  {
   "cell_type": "code",
   "execution_count": 11,
   "id": "fluid-shipping",
   "metadata": {},
   "outputs": [
    {
     "data": {
      "image/png": "[encoded data removed]",
      "text/plain": [
       "<Figure size 576x360 with 1 Axes>"
      ]
     },
     "metadata": {
      "needs_background": "light"
     },
     "output_type": "display_data"
    }
   ],
   "source": [
    "plt.figure(figsize=(8,5))\n",
    "\n",
    "plot_step = .001\n",
    "xpts = np.arange(0 , 1, plot_step).reshape(-1,1)\n",
    "plt.plot(x_train,y_train,'o')\n",
    "l2reg = 0.0001\n",
    "for sigma in [.01,.1,1]:\n",
    "    k = functools.partial(RBF_kernel, sigma=sigma)\n",
    "    f = train_kernel_ridge_regression(x_train, y_train, k, l2reg=l2reg)\n",
    "    label = \"Sigma=\"+str(sigma)+\",L2Reg=\"+str(l2reg)\n",
    "    plt.plot(xpts, f.predict(xpts), label=label)\n",
    "plt.legend(loc = 'best')\n",
    "plt.ylim(-1,1.5)\n",
    "plt.show()"
   ]
  },
  {
   "cell_type": "markdown",
   "id": "genuine-significance",
   "metadata": {},
   "source": [
    "##### Small values of sigma(e.g. sigma=0.01) are more likely to overfit, while large sigmas(e.g. sigma=1) are less."
   ]
  },
  {
   "cell_type": "markdown",
   "id": "instant-messaging",
   "metadata": {},
   "source": [
    "### Q27"
   ]
  },
  {
   "cell_type": "code",
   "execution_count": 12,
   "id": "separated-flower",
   "metadata": {},
   "outputs": [
    {
     "data": {
      "image/png": "[encoded data removed]",
      "text/plain": [
       "<Figure size 576x360 with 1 Axes>"
      ]
     },
     "metadata": {
      "needs_background": "light"
     },
     "output_type": "display_data"
    }
   ],
   "source": [
    "plt.figure(figsize=(8,5))\n",
    "\n",
    "plot_step = .001\n",
    "xpts = np.arange(0 , 1, plot_step).reshape(-1,1)\n",
    "plt.plot(x_train,y_train,'o')\n",
    "sigma= .02\n",
    "for l2reg in [.0001,.01,.1,2]:\n",
    "    k = functools.partial(RBF_kernel, sigma=sigma)\n",
    "    f = train_kernel_ridge_regression(x_train, y_train, k, l2reg=l2reg)\n",
    "    label = \"Sigma=\"+str(sigma)+\",L2Reg=\"+str(l2reg)\n",
    "    plt.plot(xpts, f.predict(xpts), label=label)\n",
    "plt.legend(loc = 'best')\n",
    "plt.ylim(-1,1.5)\n",
    "plt.show()"
   ]
  },
  {
   "cell_type": "markdown",
   "id": "corresponding-credit",
   "metadata": {},
   "source": [
    "##### When $\\lambda$ goes up, the prediction fucntion becomes more flat, and as $\\lambda\\to\\infty$, the prediction fucntion will be a constant function."
   ]
  },
  {
   "cell_type": "markdown",
   "id": "sharp-school",
   "metadata": {},
   "source": [
    "### Q28"
   ]
  },
  {
   "cell_type": "code",
   "execution_count": 13,
   "id": "smart-appendix",
   "metadata": {},
   "outputs": [],
   "source": [
    "from sklearn.base import BaseEstimator, RegressorMixin, ClassifierMixin\n",
    "\n",
    "class KernelRidgeRegression(BaseEstimator, RegressorMixin):  \n",
    "    \"\"\"sklearn wrapper for our kernel ridge regression\"\"\"\n",
    "     \n",
    "    def __init__(self, kernel=\"RBF\", sigma=1, degree=2, offset=1, l2reg=1):        \n",
    "        self.kernel = kernel\n",
    "        self.sigma = sigma\n",
    "        self.degree = degree\n",
    "        self.offset = offset\n",
    "        self.l2reg = l2reg \n",
    "\n",
    "    def fit(self, X, y=None):\n",
    "        \"\"\"\n",
    "        This should fit classifier. All the \"work\" should be done here.\n",
    "        \"\"\"\n",
    "        if (self.kernel == \"linear\"):\n",
    "            self.k = linear_kernel\n",
    "        elif (self.kernel == \"RBF\"):\n",
    "            self.k = functools.partial(RBF_kernel, sigma=self.sigma)\n",
    "        elif (self.kernel == \"polynomial\"):\n",
    "            self.k = functools.partial(polynomial_kernel, offset=self.offset, degree=self.degree)\n",
    "        else:\n",
    "            raise ValueError('Unrecognized kernel type requested.')\n",
    "        \n",
    "        self.kernel_machine_ = train_kernel_ridge_regression(X, y, self.k, self.l2reg)\n",
    "\n",
    "        return self\n",
    "\n",
    "    def predict(self, X, y=None):\n",
    "        try:\n",
    "            getattr(self, \"kernel_machine_\")\n",
    "        except AttributeError:\n",
    "            raise RuntimeError(\"You must train classifer before predicting data!\")\n",
    "\n",
    "        return(self.kernel_machine_.predict(X))\n",
    "\n",
    "    def score(self, X, y=None):\n",
    "        # get the average square error\n",
    "        return(((self.predict(X)-y)**2).mean()) "
   ]
  },
  {
   "cell_type": "code",
   "execution_count": 14,
   "id": "considered-utility",
   "metadata": {},
   "outputs": [],
   "source": [
    "from sklearn.model_selection import GridSearchCV,PredefinedSplit\n",
    "from sklearn.model_selection import ParameterGrid\n",
    "from sklearn.metrics import mean_squared_error,make_scorer\n",
    "import pandas as pd\n",
    "    \n",
    "test_fold = [-1]*len(x_train) + [0]*len(x_test)   #0 corresponds to test, -1 to train\n",
    "predefined_split = PredefinedSplit(test_fold=test_fold)"
   ]
  },
  {
   "cell_type": "code",
   "execution_count": 15,
   "id": "accessory-customs",
   "metadata": {},
   "outputs": [
    {
     "data": {
      "text/plain": [
       "GridSearchCV(cv=PredefinedSplit(test_fold=array([-1, -1, ...,  0,  0])),\n",
       "             estimator=KernelRidgeRegression(),\n",
       "             param_grid=[{'kernel': ['RBF'],\n",
       "                          'l2reg': array([32.    , 16.    ,  8.    ,  4.    ,  2.    ,  1.    ,  0.5   ,\n",
       "        0.25  ,  0.125 ,  0.0625]),\n",
       "                          'sigma': [0.1, 1, 10]},\n",
       "                         {'degree': [2, 3, 4], 'kernel': ['polynomial'],\n",
       "                          'l2reg': [10, 0.1, 0.01], 'offset': [-1, 0, 1]},\n",
       "                         {'kernel': ['linear'], 'l2reg': [10, 1, 0.01]}],\n",
       "             return_train_score=True,\n",
       "             scoring=make_scorer(mean_squared_error, greater_is_better=False))"
      ]
     },
     "execution_count": 15,
     "metadata": {},
     "output_type": "execute_result"
    }
   ],
   "source": [
    "param_grid = [{'kernel': ['RBF'],'sigma':[.1,1,10], 'l2reg': np.exp2(-np.arange(-5,5,1))},\n",
    "              {'kernel':['polynomial'],'offset':[-1,0,1], 'degree':[2,3,4],'l2reg':[10, .1, .01] },\n",
    "              {'kernel':['linear'],'l2reg': [10,1,.01]}]\n",
    "kernel_ridge_regression_estimator = KernelRidgeRegression()\n",
    "grid = GridSearchCV(kernel_ridge_regression_estimator, \n",
    "                    param_grid,\n",
    "                    cv = predefined_split,\n",
    "                    scoring = make_scorer(mean_squared_error,greater_is_better = False),\n",
    "                    return_train_score=True\n",
    "                   )\n",
    "grid.fit(np.vstack((x_train,x_test)),np.vstack((y_train,y_test))) "
   ]
  },
  {
   "cell_type": "code",
   "execution_count": 16,
   "id": "friendly-tracy",
   "metadata": {},
   "outputs": [],
   "source": [
    "pd.set_option('display.max_rows', None)\n",
    "df = pd.DataFrame(grid.cv_results_)\n",
    "# Flip sign of score back, because GridSearchCV likes to maximize,\n",
    "# so it flips the sign of the score if \"greater_is_better=FALSE\"\n",
    "df['mean_test_score'] = -df['mean_test_score']\n",
    "df['mean_train_score'] = -df['mean_train_score']\n",
    "cols_to_keep = [\"param_degree\", \"param_kernel\",\"param_l2reg\" ,\"param_offset\",\"param_sigma\",\n",
    "        \"mean_test_score\",\"mean_train_score\"]\n",
    "df_toshow = df[cols_to_keep].fillna('-')"
   ]
  },
  {
   "cell_type": "markdown",
   "id": "southern-theta",
   "metadata": {},
   "source": [
    "#### Table for RBF kernels"
   ]
  },
  {
   "cell_type": "code",
   "execution_count": 17,
   "id": "silver-screening",
   "metadata": {},
   "outputs": [
    {
     "data": {
      "text/html": [
       "<div>\n",
       "<style scoped>\n",
       "    .dataframe tbody tr th:only-of-type {\n",
       "        vertical-align: middle;\n",
       "    }\n",
       "\n",
       "    .dataframe tbody tr th {\n",
       "        vertical-align: top;\n",
       "    }\n",
       "\n",
       "    .dataframe thead th {\n",
       "        text-align: right;\n",
       "    }\n",
       "</style>\n",
       "<table border=\"1\" class=\"dataframe\">\n",
       "  <thead>\n",
       "    <tr style=\"text-align: right;\">\n",
       "      <th></th>\n",
       "      <th>param_degree</th>\n",
       "      <th>param_kernel</th>\n",
       "      <th>param_l2reg</th>\n",
       "      <th>param_offset</th>\n",
       "      <th>param_sigma</th>\n",
       "      <th>mean_test_score</th>\n",
       "      <th>mean_train_score</th>\n",
       "    </tr>\n",
       "  </thead>\n",
       "  <tbody>\n",
       "    <tr>\n",
       "      <th>27</th>\n",
       "      <td>-</td>\n",
       "      <td>RBF</td>\n",
       "      <td>0.0625</td>\n",
       "      <td>-</td>\n",
       "      <td>0.1</td>\n",
       "      <td>0.021270</td>\n",
       "      <td>0.023245</td>\n",
       "    </tr>\n",
       "    <tr>\n",
       "      <th>24</th>\n",
       "      <td>-</td>\n",
       "      <td>RBF</td>\n",
       "      <td>0.1250</td>\n",
       "      <td>-</td>\n",
       "      <td>0.1</td>\n",
       "      <td>0.022885</td>\n",
       "      <td>0.024608</td>\n",
       "    </tr>\n",
       "    <tr>\n",
       "      <th>21</th>\n",
       "      <td>-</td>\n",
       "      <td>RBF</td>\n",
       "      <td>0.2500</td>\n",
       "      <td>-</td>\n",
       "      <td>0.1</td>\n",
       "      <td>0.024845</td>\n",
       "      <td>0.026226</td>\n",
       "    </tr>\n",
       "    <tr>\n",
       "      <th>18</th>\n",
       "      <td>-</td>\n",
       "      <td>RBF</td>\n",
       "      <td>0.5000</td>\n",
       "      <td>-</td>\n",
       "      <td>0.1</td>\n",
       "      <td>0.026609</td>\n",
       "      <td>0.028110</td>\n",
       "    </tr>\n",
       "    <tr>\n",
       "      <th>15</th>\n",
       "      <td>-</td>\n",
       "      <td>RBF</td>\n",
       "      <td>1.0000</td>\n",
       "      <td>-</td>\n",
       "      <td>0.1</td>\n",
       "      <td>0.027562</td>\n",
       "      <td>0.030319</td>\n",
       "    </tr>\n",
       "    <tr>\n",
       "      <th>12</th>\n",
       "      <td>-</td>\n",
       "      <td>RBF</td>\n",
       "      <td>2.0000</td>\n",
       "      <td>-</td>\n",
       "      <td>0.1</td>\n",
       "      <td>0.028041</td>\n",
       "      <td>0.033539</td>\n",
       "    </tr>\n",
       "    <tr>\n",
       "      <th>9</th>\n",
       "      <td>-</td>\n",
       "      <td>RBF</td>\n",
       "      <td>4.0000</td>\n",
       "      <td>-</td>\n",
       "      <td>0.1</td>\n",
       "      <td>0.030082</td>\n",
       "      <td>0.039685</td>\n",
       "    </tr>\n",
       "    <tr>\n",
       "      <th>6</th>\n",
       "      <td>-</td>\n",
       "      <td>RBF</td>\n",
       "      <td>8.0000</td>\n",
       "      <td>-</td>\n",
       "      <td>0.1</td>\n",
       "      <td>0.037650</td>\n",
       "      <td>0.052373</td>\n",
       "    </tr>\n",
       "    <tr>\n",
       "      <th>3</th>\n",
       "      <td>-</td>\n",
       "      <td>RBF</td>\n",
       "      <td>16.0000</td>\n",
       "      <td>-</td>\n",
       "      <td>0.1</td>\n",
       "      <td>0.055006</td>\n",
       "      <td>0.075591</td>\n",
       "    </tr>\n",
       "    <tr>\n",
       "      <th>28</th>\n",
       "      <td>-</td>\n",
       "      <td>RBF</td>\n",
       "      <td>0.0625</td>\n",
       "      <td>-</td>\n",
       "      <td>1</td>\n",
       "      <td>0.063632</td>\n",
       "      <td>0.098843</td>\n",
       "    </tr>\n",
       "  </tbody>\n",
       "</table>\n",
       "</div>"
      ],
      "text/plain": [
       "   param_degree param_kernel  param_l2reg param_offset param_sigma  \\\n",
       "27            -          RBF       0.0625            -         0.1   \n",
       "24            -          RBF       0.1250            -         0.1   \n",
       "21            -          RBF       0.2500            -         0.1   \n",
       "18            -          RBF       0.5000            -         0.1   \n",
       "15            -          RBF       1.0000            -         0.1   \n",
       "12            -          RBF       2.0000            -         0.1   \n",
       "9             -          RBF       4.0000            -         0.1   \n",
       "6             -          RBF       8.0000            -         0.1   \n",
       "3             -          RBF      16.0000            -         0.1   \n",
       "28            -          RBF       0.0625            -           1   \n",
       "\n",
       "    mean_test_score  mean_train_score  \n",
       "27         0.021270          0.023245  \n",
       "24         0.022885          0.024608  \n",
       "21         0.024845          0.026226  \n",
       "18         0.026609          0.028110  \n",
       "15         0.027562          0.030319  \n",
       "12         0.028041          0.033539  \n",
       "9          0.030082          0.039685  \n",
       "6          0.037650          0.052373  \n",
       "3          0.055006          0.075591  \n",
       "28         0.063632          0.098843  "
      ]
     },
     "execution_count": 17,
     "metadata": {},
     "output_type": "execute_result"
    }
   ],
   "source": [
    "# show the first ten rows order by ascending test scores\n",
    "df_toshow_RBF = df_toshow[df_toshow['param_kernel']=='RBF']\n",
    "df_toshow_RBF.sort_values(by=[\"mean_test_score\"])[:10]"
   ]
  },
  {
   "cell_type": "markdown",
   "id": "copyrighted-volume",
   "metadata": {},
   "source": [
    "#### Table for polynomial kernels"
   ]
  },
  {
   "cell_type": "code",
   "execution_count": 18,
   "id": "ranging-antenna",
   "metadata": {},
   "outputs": [
    {
     "data": {
      "text/html": [
       "<div>\n",
       "<style scoped>\n",
       "    .dataframe tbody tr th:only-of-type {\n",
       "        vertical-align: middle;\n",
       "    }\n",
       "\n",
       "    .dataframe tbody tr th {\n",
       "        vertical-align: top;\n",
       "    }\n",
       "\n",
       "    .dataframe thead th {\n",
       "        text-align: right;\n",
       "    }\n",
       "</style>\n",
       "<table border=\"1\" class=\"dataframe\">\n",
       "  <thead>\n",
       "    <tr style=\"text-align: right;\">\n",
       "      <th></th>\n",
       "      <th>param_degree</th>\n",
       "      <th>param_kernel</th>\n",
       "      <th>param_l2reg</th>\n",
       "      <th>param_offset</th>\n",
       "      <th>param_sigma</th>\n",
       "      <th>mean_test_score</th>\n",
       "      <th>mean_train_score</th>\n",
       "    </tr>\n",
       "  </thead>\n",
       "  <tbody>\n",
       "    <tr>\n",
       "      <th>54</th>\n",
       "      <td>4</td>\n",
       "      <td>polynomial</td>\n",
       "      <td>0.01</td>\n",
       "      <td>-1</td>\n",
       "      <td>-</td>\n",
       "      <td>0.043454</td>\n",
       "      <td>0.060135</td>\n",
       "    </tr>\n",
       "    <tr>\n",
       "      <th>56</th>\n",
       "      <td>4</td>\n",
       "      <td>polynomial</td>\n",
       "      <td>0.01</td>\n",
       "      <td>1</td>\n",
       "      <td>-</td>\n",
       "      <td>0.060262</td>\n",
       "      <td>0.088844</td>\n",
       "    </tr>\n",
       "    <tr>\n",
       "      <th>33</th>\n",
       "      <td>2</td>\n",
       "      <td>polynomial</td>\n",
       "      <td>0.10</td>\n",
       "      <td>-1</td>\n",
       "      <td>-</td>\n",
       "      <td>0.065554</td>\n",
       "      <td>0.098913</td>\n",
       "    </tr>\n",
       "    <tr>\n",
       "      <th>38</th>\n",
       "      <td>2</td>\n",
       "      <td>polynomial</td>\n",
       "      <td>0.01</td>\n",
       "      <td>1</td>\n",
       "      <td>-</td>\n",
       "      <td>0.066532</td>\n",
       "      <td>0.097785</td>\n",
       "    </tr>\n",
       "    <tr>\n",
       "      <th>36</th>\n",
       "      <td>2</td>\n",
       "      <td>polynomial</td>\n",
       "      <td>0.01</td>\n",
       "      <td>-1</td>\n",
       "      <td>-</td>\n",
       "      <td>0.066915</td>\n",
       "      <td>0.097706</td>\n",
       "    </tr>\n",
       "    <tr>\n",
       "      <th>35</th>\n",
       "      <td>2</td>\n",
       "      <td>polynomial</td>\n",
       "      <td>0.10</td>\n",
       "      <td>1</td>\n",
       "      <td>-</td>\n",
       "      <td>0.067454</td>\n",
       "      <td>0.103356</td>\n",
       "    </tr>\n",
       "    <tr>\n",
       "      <th>44</th>\n",
       "      <td>3</td>\n",
       "      <td>polynomial</td>\n",
       "      <td>0.10</td>\n",
       "      <td>1</td>\n",
       "      <td>-</td>\n",
       "      <td>0.067508</td>\n",
       "      <td>0.097546</td>\n",
       "    </tr>\n",
       "    <tr>\n",
       "      <th>45</th>\n",
       "      <td>3</td>\n",
       "      <td>polynomial</td>\n",
       "      <td>0.01</td>\n",
       "      <td>-1</td>\n",
       "      <td>-</td>\n",
       "      <td>0.068156</td>\n",
       "      <td>0.097027</td>\n",
       "    </tr>\n",
       "    <tr>\n",
       "      <th>53</th>\n",
       "      <td>4</td>\n",
       "      <td>polynomial</td>\n",
       "      <td>0.10</td>\n",
       "      <td>1</td>\n",
       "      <td>-</td>\n",
       "      <td>0.068353</td>\n",
       "      <td>0.096693</td>\n",
       "    </tr>\n",
       "    <tr>\n",
       "      <th>42</th>\n",
       "      <td>3</td>\n",
       "      <td>polynomial</td>\n",
       "      <td>0.10</td>\n",
       "      <td>-1</td>\n",
       "      <td>-</td>\n",
       "      <td>0.068397</td>\n",
       "      <td>0.099992</td>\n",
       "    </tr>\n",
       "  </tbody>\n",
       "</table>\n",
       "</div>"
      ],
      "text/plain": [
       "   param_degree param_kernel  param_l2reg param_offset param_sigma  \\\n",
       "54            4   polynomial         0.01           -1           -   \n",
       "56            4   polynomial         0.01            1           -   \n",
       "33            2   polynomial         0.10           -1           -   \n",
       "38            2   polynomial         0.01            1           -   \n",
       "36            2   polynomial         0.01           -1           -   \n",
       "35            2   polynomial         0.10            1           -   \n",
       "44            3   polynomial         0.10            1           -   \n",
       "45            3   polynomial         0.01           -1           -   \n",
       "53            4   polynomial         0.10            1           -   \n",
       "42            3   polynomial         0.10           -1           -   \n",
       "\n",
       "    mean_test_score  mean_train_score  \n",
       "54         0.043454          0.060135  \n",
       "56         0.060262          0.088844  \n",
       "33         0.065554          0.098913  \n",
       "38         0.066532          0.097785  \n",
       "36         0.066915          0.097706  \n",
       "35         0.067454          0.103356  \n",
       "44         0.067508          0.097546  \n",
       "45         0.068156          0.097027  \n",
       "53         0.068353          0.096693  \n",
       "42         0.068397          0.099992  "
      ]
     },
     "execution_count": 18,
     "metadata": {},
     "output_type": "execute_result"
    }
   ],
   "source": [
    "# show the first ten rows order by ascending test scores\n",
    "df_toshow_poly = df_toshow[df_toshow['param_kernel']=='polynomial']\n",
    "df_toshow_poly.sort_values(by=[\"mean_test_score\"])[:10]"
   ]
  },
  {
   "cell_type": "markdown",
   "id": "inappropriate-michael",
   "metadata": {},
   "source": [
    "#### Table for linear kernels"
   ]
  },
  {
   "cell_type": "code",
   "execution_count": 19,
   "id": "consecutive-applicant",
   "metadata": {},
   "outputs": [
    {
     "data": {
      "text/html": [
       "<div>\n",
       "<style scoped>\n",
       "    .dataframe tbody tr th:only-of-type {\n",
       "        vertical-align: middle;\n",
       "    }\n",
       "\n",
       "    .dataframe tbody tr th {\n",
       "        vertical-align: top;\n",
       "    }\n",
       "\n",
       "    .dataframe thead th {\n",
       "        text-align: right;\n",
       "    }\n",
       "</style>\n",
       "<table border=\"1\" class=\"dataframe\">\n",
       "  <thead>\n",
       "    <tr style=\"text-align: right;\">\n",
       "      <th></th>\n",
       "      <th>param_degree</th>\n",
       "      <th>param_kernel</th>\n",
       "      <th>param_l2reg</th>\n",
       "      <th>param_offset</th>\n",
       "      <th>param_sigma</th>\n",
       "      <th>mean_test_score</th>\n",
       "      <th>mean_train_score</th>\n",
       "    </tr>\n",
       "  </thead>\n",
       "  <tbody>\n",
       "    <tr>\n",
       "      <th>58</th>\n",
       "      <td>-</td>\n",
       "      <td>linear</td>\n",
       "      <td>1.00</td>\n",
       "      <td>-</td>\n",
       "      <td>-</td>\n",
       "      <td>0.164540</td>\n",
       "      <td>0.206506</td>\n",
       "    </tr>\n",
       "    <tr>\n",
       "      <th>59</th>\n",
       "      <td>-</td>\n",
       "      <td>linear</td>\n",
       "      <td>0.01</td>\n",
       "      <td>-</td>\n",
       "      <td>-</td>\n",
       "      <td>0.164569</td>\n",
       "      <td>0.206501</td>\n",
       "    </tr>\n",
       "    <tr>\n",
       "      <th>57</th>\n",
       "      <td>-</td>\n",
       "      <td>linear</td>\n",
       "      <td>10.00</td>\n",
       "      <td>-</td>\n",
       "      <td>-</td>\n",
       "      <td>0.164591</td>\n",
       "      <td>0.206780</td>\n",
       "    </tr>\n",
       "  </tbody>\n",
       "</table>\n",
       "</div>"
      ],
      "text/plain": [
       "   param_degree param_kernel  param_l2reg param_offset param_sigma  \\\n",
       "58            -       linear         1.00            -           -   \n",
       "59            -       linear         0.01            -           -   \n",
       "57            -       linear        10.00            -           -   \n",
       "\n",
       "    mean_test_score  mean_train_score  \n",
       "58         0.164540          0.206506  \n",
       "59         0.164569          0.206501  \n",
       "57         0.164591          0.206780  "
      ]
     },
     "execution_count": 19,
     "metadata": {},
     "output_type": "execute_result"
    }
   ],
   "source": [
    "df_toshow_poly = df_toshow[df_toshow['param_kernel']=='linear']\n",
    "df_toshow_poly.sort_values(by=[\"mean_test_score\"])"
   ]
  },
  {
   "cell_type": "markdown",
   "id": "monthly-luxury",
   "metadata": {},
   "source": [
    "####  Best Settings"
   ]
  },
  {
   "cell_type": "markdown",
   "id": "transsexual-colors",
   "metadata": {},
   "source": [
    "RBF: l2reg = 0.0625, sigma = 0.1\n",
    "\n",
    "Polynomial: l2reg = 0.01, offset = -1, degree = 4\n",
    "\n",
    "Linear: l2reg = 1\n"
   ]
  },
  {
   "cell_type": "markdown",
   "id": "mexican-deployment",
   "metadata": {},
   "source": [
    "### Q29"
   ]
  },
  {
   "cell_type": "code",
   "execution_count": 22,
   "id": "serial-blogger",
   "metadata": {},
   "outputs": [
    {
     "data": {
      "image/png": "[encoded data removed]",
      "text/plain": [
       "<Figure size 576x360 with 1 Axes>"
      ]
     },
     "metadata": {
      "needs_background": "light"
     },
     "output_type": "display_data"
    }
   ],
   "source": [
    "## Plot the best polynomial and RBF fits you found\n",
    "plt.figure(figsize=(8,5))\n",
    "plot_step = .01\n",
    "xpts = np.arange(-.5 , 1.5, plot_step).reshape(-1,1)\n",
    "plt.plot(x_train,y_train,'o')\n",
    "\n",
    "#Plot best polynomial fit\n",
    "offset= -1\n",
    "degree = 4\n",
    "l2reg = 0.01\n",
    "k = functools.partial(polynomial_kernel, offset=offset, degree=degree)\n",
    "f = train_kernel_ridge_regression(x_train, y_train, k, l2reg=l2reg)\n",
    "label = \"Offset=\"+str(offset)+\",Degree=\"+str(degree)+\",L2Reg=\"+str(l2reg)\n",
    "plt.plot(xpts, f.predict(xpts), label=label)\n",
    "\n",
    "#Plot best RBF fit\n",
    "sigma = 0.1\n",
    "l2reg= 0.0625\n",
    "k = functools.partial(RBF_kernel, sigma=sigma)\n",
    "f = train_kernel_ridge_regression(x_train, y_train, k, l2reg=l2reg)\n",
    "label = \"Sigma=\"+str(sigma)+\",L2Reg=\"+str(l2reg)\n",
    "plt.plot(xpts, f.predict(xpts), label=label)\n",
    "plt.legend(loc = 'best')\n",
    "plt.ylim(-1,1.75)\n",
    "plt.show()"
   ]
  },
  {
   "cell_type": "markdown",
   "id": "perceived-posting",
   "metadata": {},
   "source": [
    "##### The prediction function trained with RBF kernel fits better on the test data than the one trained with polynomial kernel.\n",
    "\n",
    "##### It is probably because the RBF kernel gives more flexibity to the prediction function while the polynomial kernel has a fixed degree that restricts its shape."
   ]
  },
  {
   "cell_type": "markdown",
   "id": "pleasant-receiver",
   "metadata": {},
   "source": [
    "### Q30"
   ]
  },
  {
   "cell_type": "markdown",
   "id": "median-gambling",
   "metadata": {},
   "source": [
    "The Bayes decision function $f^*(x)$ is the best prediction fucntion we can get among all possible functions, and here $y$ is generated by $y = f(x) + \\epsilon$, where $\\epsilon$ is independent of $x$.\n",
    "\n",
    "Therefore, the best prediction for $y$ is \n",
    "$$\\hat y = f(x)$$ \n",
    "\n",
    "That is,  the Bayes decision function:\n",
    "$$f^*(x) = f(x)$$"
   ]
  },
  {
   "cell_type": "markdown",
   "id": "secondary-moral",
   "metadata": {},
   "source": [
    "The Bayes risk is:\n",
    "$$\\begin{eqnarray*} \n",
    "R(f^*) &=& E[\\ell (f^*(x), y)] \\\\\n",
    "&=& E[\\ell (f(x), y)] \\\\\n",
    "&=& E[(f(x) - (f(x)+\\epsilon))^2] \\\\\n",
    "&=& E(\\epsilon^2) \\\\\n",
    "&=& var(\\epsilon) + [E(\\epsilon)]^2 \\\\\n",
    "&=& 0.1^2 + 0 \\\\ \n",
    "&=& 0.01\n",
    "\\end{eqnarray*} $$"
   ]
  }
 ],
 "metadata": {
  "kernelspec": {
   "display_name": "Python 3",
   "language": "python",
   "name": "python3"
  },
  "language_info": {
   "codemirror_mode": {
    "name": "ipython",
    "version": 3
   },
   "file_extension": ".py",
   "mimetype": "text/x-python",
   "name": "python",
   "nbconvert_exporter": "python",
   "pygments_lexer": "ipython3",
   "version": "3.8.3"
  },
  "widgets": {
   "application/vnd.jupyter.widget-state+json": {
    "state": {
     "12a88b574ecd40839c4f00cfbf5fe46d": {
      "model_module": "@jupyter-widgets/base",
      "model_module_version": "1.2.0",
      "model_name": "LayoutModel",
      "state": {}
     },
     "32b35024e4c1466a9317a5a58b660bfd": {
      "model_module": "qgrid",
      "model_module_version": "^1.1.3",
      "model_name": "QgridModel",
      "state": {
       "_columns": {
        "index": {
         "cssClass": "integer first-idx-col idx-col",
         "defaultSortAsc": true,
         "editable": true,
         "field": "index",
         "first_index": true,
         "id": "index",
         "index_display_text": "",
         "is_index": true,
         "level": 0,
         "minWidth": 30,
         "name": "",
         "position": 0,
         "resizable": true,
         "sortable": true,
         "toolTip": "",
         "type": "integer"
        },
        "mean_test_score": {
         "cssClass": "number",
         "defaultSortAsc": true,
         "editable": true,
         "field": "mean_test_score",
         "id": "mean_test_score",
         "minWidth": 30,
         "name": "mean_test_score",
         "position": 7,
         "resizable": true,
         "sortable": true,
         "toolTip": "",
         "type": "number"
        },
        "mean_train_score": {
         "cssClass": "number",
         "defaultSortAsc": true,
         "editable": true,
         "field": "mean_train_score",
         "id": "mean_train_score",
         "minWidth": 30,
         "name": "mean_train_score",
         "position": 8,
         "resizable": true,
         "sortable": true,
         "toolTip": "",
         "type": "number"
        },
        "param_degree": {
         "cssClass": "string",
         "defaultSortAsc": true,
         "editable": true,
         "field": "param_degree",
         "id": "param_degree",
         "minWidth": 30,
         "name": "param_degree",
         "position": 2,
         "resizable": true,
         "sortable": true,
         "toolTip": "",
         "type": "string"
        },
        "param_kernel": {
         "cssClass": "string",
         "defaultSortAsc": true,
         "editable": true,
         "field": "param_kernel",
         "id": "param_kernel",
         "minWidth": 30,
         "name": "param_kernel",
         "position": 3,
         "resizable": true,
         "sortable": true,
         "toolTip": "",
         "type": "string"
        },
        "param_l2reg": {
         "cssClass": "number",
         "defaultSortAsc": true,
         "editable": true,
         "field": "param_l2reg",
         "id": "param_l2reg",
         "minWidth": 30,
         "name": "param_l2reg",
         "position": 4,
         "resizable": true,
         "sortable": true,
         "toolTip": "",
         "type": "number"
        },
        "param_offset": {
         "cssClass": "string",
         "defaultSortAsc": true,
         "editable": true,
         "field": "param_offset",
         "id": "param_offset",
         "minWidth": 30,
         "name": "param_offset",
         "position": 5,
         "resizable": true,
         "sortable": true,
         "toolTip": "",
         "type": "string"
        },
        "param_sigma": {
         "cssClass": "string",
         "defaultSortAsc": true,
         "editable": true,
         "field": "param_sigma",
         "id": "param_sigma",
         "minWidth": 30,
         "name": "param_sigma",
         "position": 6,
         "resizable": true,
         "sortable": true,
         "toolTip": "",
         "type": "string"
        },
        "qgrid_unfiltered_index": {
         "cssClass": "integer",
         "defaultSortAsc": true,
         "editable": true,
         "field": "qgrid_unfiltered_index",
         "id": "qgrid_unfiltered_index",
         "maxWidth": null,
         "minWidth": 30,
         "name": "qgrid_unfiltered_index",
         "position": 1,
         "resizable": true,
         "sortable": true,
         "toolTip": "",
         "type": "integer",
         "width": null
        }
       },
       "_df_json": "{\"schema\":{\"fields\":[{\"name\":\"index\",\"type\":\"integer\"},{\"name\":\"qgrid_unfiltered_index\",\"type\":\"integer\"},{\"name\":\"param_degree\",\"type\":\"string\"},{\"name\":\"param_kernel\",\"type\":\"string\"},{\"name\":\"param_l2reg\",\"type\":\"number\"},{\"name\":\"param_offset\",\"type\":\"string\"},{\"name\":\"param_sigma\",\"type\":\"string\"},{\"name\":\"mean_test_score\",\"type\":\"number\"},{\"name\":\"mean_train_score\",\"type\":\"number\"}],\"primaryKey\":[\"index\"],\"pandas_version\":\"0.20.0\"},\"data\":[{\"index\":27,\"qgrid_unfiltered_index\":27,\"param_degree\":\"-\",\"param_kernel\":\"RBF\",\"param_l2reg\":0.0625,\"param_offset\":\"-\",\"param_sigma\":\"0.1\",\"mean_test_score\":0.02127,\"mean_train_score\":0.02324},{\"index\":24,\"qgrid_unfiltered_index\":24,\"param_degree\":\"-\",\"param_kernel\":\"RBF\",\"param_l2reg\":0.125,\"param_offset\":\"-\",\"param_sigma\":\"0.1\",\"mean_test_score\":0.02289,\"mean_train_score\":0.02461},{\"index\":21,\"qgrid_unfiltered_index\":21,\"param_degree\":\"-\",\"param_kernel\":\"RBF\",\"param_l2reg\":0.25,\"param_offset\":\"-\",\"param_sigma\":\"0.1\",\"mean_test_score\":0.02485,\"mean_train_score\":0.02623},{\"index\":18,\"qgrid_unfiltered_index\":18,\"param_degree\":\"-\",\"param_kernel\":\"RBF\",\"param_l2reg\":0.5,\"param_offset\":\"-\",\"param_sigma\":\"0.1\",\"mean_test_score\":0.02661,\"mean_train_score\":0.02811},{\"index\":15,\"qgrid_unfiltered_index\":15,\"param_degree\":\"-\",\"param_kernel\":\"RBF\",\"param_l2reg\":1.0,\"param_offset\":\"-\",\"param_sigma\":\"0.1\",\"mean_test_score\":0.02756,\"mean_train_score\":0.03032},{\"index\":12,\"qgrid_unfiltered_index\":12,\"param_degree\":\"-\",\"param_kernel\":\"RBF\",\"param_l2reg\":2.0,\"param_offset\":\"-\",\"param_sigma\":\"0.1\",\"mean_test_score\":0.02804,\"mean_train_score\":0.03354},{\"index\":9,\"qgrid_unfiltered_index\":9,\"param_degree\":\"-\",\"param_kernel\":\"RBF\",\"param_l2reg\":4.0,\"param_offset\":\"-\",\"param_sigma\":\"0.1\",\"mean_test_score\":0.03008,\"mean_train_score\":0.03969},{\"index\":6,\"qgrid_unfiltered_index\":6,\"param_degree\":\"-\",\"param_kernel\":\"RBF\",\"param_l2reg\":8.0,\"param_offset\":\"-\",\"param_sigma\":\"0.1\",\"mean_test_score\":0.03765,\"mean_train_score\":0.05237},{\"index\":54,\"qgrid_unfiltered_index\":54,\"param_degree\":\"4\",\"param_kernel\":\"polynomial\",\"param_l2reg\":0.01,\"param_offset\":\"-1\",\"param_sigma\":\"-\",\"mean_test_score\":0.04345,\"mean_train_score\":0.06014},{\"index\":3,\"qgrid_unfiltered_index\":3,\"param_degree\":\"-\",\"param_kernel\":\"RBF\",\"param_l2reg\":16.0,\"param_offset\":\"-\",\"param_sigma\":\"0.1\",\"mean_test_score\":0.05501,\"mean_train_score\":0.07559},{\"index\":56,\"qgrid_unfiltered_index\":56,\"param_degree\":\"4\",\"param_kernel\":\"polynomial\",\"param_l2reg\":0.01,\"param_offset\":\"1\",\"param_sigma\":\"-\",\"mean_test_score\":0.06026,\"mean_train_score\":0.08884},{\"index\":28,\"qgrid_unfiltered_index\":28,\"param_degree\":\"-\",\"param_kernel\":\"RBF\",\"param_l2reg\":0.0625,\"param_offset\":\"-\",\"param_sigma\":\"1\",\"mean_test_score\":0.06363,\"mean_train_score\":0.09884},{\"index\":33,\"qgrid_unfiltered_index\":33,\"param_degree\":\"2\",\"param_kernel\":\"polynomial\",\"param_l2reg\":0.1,\"param_offset\":\"-1\",\"param_sigma\":\"-\",\"mean_test_score\":0.06555,\"mean_train_score\":0.09891},{\"index\":38,\"qgrid_unfiltered_index\":38,\"param_degree\":\"2\",\"param_kernel\":\"polynomial\",\"param_l2reg\":0.01,\"param_offset\":\"1\",\"param_sigma\":\"-\",\"mean_test_score\":0.06653,\"mean_train_score\":0.09778},{\"index\":36,\"qgrid_unfiltered_index\":36,\"param_degree\":\"2\",\"param_kernel\":\"polynomial\",\"param_l2reg\":0.01,\"param_offset\":\"-1\",\"param_sigma\":\"-\",\"mean_test_score\":0.06691,\"mean_train_score\":0.09771},{\"index\":35,\"qgrid_unfiltered_index\":35,\"param_degree\":\"2\",\"param_kernel\":\"polynomial\",\"param_l2reg\":0.1,\"param_offset\":\"1\",\"param_sigma\":\"-\",\"mean_test_score\":0.06745,\"mean_train_score\":0.10336},{\"index\":44,\"qgrid_unfiltered_index\":44,\"param_degree\":\"3\",\"param_kernel\":\"polynomial\",\"param_l2reg\":0.1,\"param_offset\":\"1\",\"param_sigma\":\"-\",\"mean_test_score\":0.06751,\"mean_train_score\":0.09755},{\"index\":45,\"qgrid_unfiltered_index\":45,\"param_degree\":\"3\",\"param_kernel\":\"polynomial\",\"param_l2reg\":0.01,\"param_offset\":\"-1\",\"param_sigma\":\"-\",\"mean_test_score\":0.06816,\"mean_train_score\":0.09703},{\"index\":53,\"qgrid_unfiltered_index\":53,\"param_degree\":\"4\",\"param_kernel\":\"polynomial\",\"param_l2reg\":0.1,\"param_offset\":\"1\",\"param_sigma\":\"-\",\"mean_test_score\":0.06835,\"mean_train_score\":0.09669},{\"index\":42,\"qgrid_unfiltered_index\":42,\"param_degree\":\"3\",\"param_kernel\":\"polynomial\",\"param_l2reg\":0.1,\"param_offset\":\"-1\",\"param_sigma\":\"-\",\"mean_test_score\":0.0684,\"mean_train_score\":0.09999},{\"index\":47,\"qgrid_unfiltered_index\":47,\"param_degree\":\"3\",\"param_kernel\":\"polynomial\",\"param_l2reg\":0.01,\"param_offset\":\"1\",\"param_sigma\":\"-\",\"mean_test_score\":0.06893,\"mean_train_score\":0.09691},{\"index\":25,\"qgrid_unfiltered_index\":25,\"param_degree\":\"-\",\"param_kernel\":\"RBF\",\"param_l2reg\":0.125,\"param_offset\":\"-\",\"param_sigma\":\"1\",\"mean_test_score\":0.07025,\"mean_train_score\":0.10817},{\"index\":0,\"qgrid_unfiltered_index\":0,\"param_degree\":\"-\",\"param_kernel\":\"RBF\",\"param_l2reg\":32.0,\"param_offset\":\"-\",\"param_sigma\":\"0.1\",\"mean_test_score\":0.08172,\"mean_train_score\":0.1085},{\"index\":22,\"qgrid_unfiltered_index\":22,\"param_degree\":\"-\",\"param_kernel\":\"RBF\",\"param_l2reg\":0.25,\"param_offset\":\"-\",\"param_sigma\":\"1\",\"mean_test_score\":0.08453,\"mean_train_score\":0.12475},{\"index\":19,\"qgrid_unfiltered_index\":19,\"param_degree\":\"-\",\"param_kernel\":\"RBF\",\"param_l2reg\":0.5,\"param_offset\":\"-\",\"param_sigma\":\"1\",\"mean_test_score\":0.10434,\"mean_train_score\":0.14591},{\"index\":50,\"qgrid_unfiltered_index\":50,\"param_degree\":\"4\",\"param_kernel\":\"polynomial\",\"param_l2reg\":10.0,\"param_offset\":\"1\",\"param_sigma\":\"-\",\"mean_test_score\":0.10704,\"mean_train_score\":0.14736},{\"index\":16,\"qgrid_unfiltered_index\":16,\"param_degree\":\"-\",\"param_kernel\":\"RBF\",\"param_l2reg\":1.0,\"param_offset\":\"-\",\"param_sigma\":\"1\",\"mean_test_score\":0.12354,\"mean_train_score\":0.16566},{\"index\":41,\"qgrid_unfiltered_index\":41,\"param_degree\":\"3\",\"param_kernel\":\"polynomial\",\"param_l2reg\":10.0,\"param_offset\":\"1\",\"param_sigma\":\"-\",\"mean_test_score\":0.12671,\"mean_train_score\":0.16829},{\"index\":52,\"qgrid_unfiltered_index\":52,\"param_degree\":\"4\",\"param_kernel\":\"polynomial\",\"param_l2reg\":0.1,\"param_offset\":\"0\",\"param_sigma\":\"-\",\"mean_test_score\":0.1308,\"mean_train_score\":0.16882},{\"index\":55,\"qgrid_unfiltered_index\":55,\"param_degree\":\"4\",\"param_kernel\":\"polynomial\",\"param_l2reg\":0.01,\"param_offset\":\"0\",\"param_sigma\":\"-\",\"mean_test_score\":0.13091,\"mean_train_score\":0.16881},{\"index\":13,\"qgrid_unfiltered_index\":13,\"param_degree\":\"-\",\"param_kernel\":\"RBF\",\"param_l2reg\":2.0,\"param_offset\":\"-\",\"param_sigma\":\"1\",\"mean_test_score\":0.13797,\"mean_train_score\":0.1803},{\"index\":49,\"qgrid_unfiltered_index\":49,\"param_degree\":\"4\",\"param_kernel\":\"polynomial\",\"param_l2reg\":10.0,\"param_offset\":\"0\",\"param_sigma\":\"-\",\"mean_test_score\":0.13861,\"mean_train_score\":0.18063},{\"index\":43,\"qgrid_unfiltered_index\":43,\"param_degree\":\"3\",\"param_kernel\":\"polynomial\",\"param_l2reg\":0.1,\"param_offset\":\"0\",\"param_sigma\":\"-\",\"mean_test_score\":0.13893,\"mean_train_score\":0.17827},{\"index\":46,\"qgrid_unfiltered_index\":46,\"param_degree\":\"3\",\"param_kernel\":\"polynomial\",\"param_l2reg\":0.01,\"param_offset\":\"0\",\"param_sigma\":\"-\",\"mean_test_score\":0.13897,\"mean_train_score\":0.17827},{\"index\":48,\"qgrid_unfiltered_index\":48,\"param_degree\":\"4\",\"param_kernel\":\"polynomial\",\"param_l2reg\":10.0,\"param_offset\":\"-1\",\"param_sigma\":\"-\",\"mean_test_score\":0.13901,\"mean_train_score\":0.18257},{\"index\":40,\"qgrid_unfiltered_index\":40,\"param_degree\":\"3\",\"param_kernel\":\"polynomial\",\"param_l2reg\":10.0,\"param_offset\":\"0\",\"param_sigma\":\"-\",\"mean_test_score\":0.14345,\"mean_train_score\":0.18511},{\"index\":32,\"qgrid_unfiltered_index\":32,\"param_degree\":\"2\",\"param_kernel\":\"polynomial\",\"param_l2reg\":10.0,\"param_offset\":\"1\",\"param_sigma\":\"-\",\"mean_test_score\":0.14625,\"mean_train_score\":0.18836},{\"index\":10,\"qgrid_unfiltered_index\":10,\"param_degree\":\"-\",\"param_kernel\":\"RBF\",\"param_l2reg\":4.0,\"param_offset\":\"-\",\"param_sigma\":\"1\",\"mean_test_score\":0.14761,\"mean_train_score\":0.1901},{\"index\":34,\"qgrid_unfiltered_index\":34,\"param_degree\":\"2\",\"param_kernel\":\"polynomial\",\"param_l2reg\":0.1,\"param_offset\":\"0\",\"param_sigma\":\"-\",\"mean_test_score\":0.15172,\"mean_train_score\":0.19254},{\"index\":37,\"qgrid_unfiltered_index\":37,\"param_degree\":\"2\",\"param_kernel\":\"polynomial\",\"param_l2reg\":0.01,\"param_offset\":\"0\",\"param_sigma\":\"-\",\"mean_test_score\":0.15174,\"mean_train_score\":0.19254},{\"index\":31,\"qgrid_unfiltered_index\":31,\"param_degree\":\"2\",\"param_kernel\":\"polynomial\",\"param_l2reg\":10.0,\"param_offset\":\"0\",\"param_sigma\":\"-\",\"mean_test_score\":0.15327,\"mean_train_score\":0.19503},{\"index\":7,\"qgrid_unfiltered_index\":7,\"param_degree\":\"-\",\"param_kernel\":\"RBF\",\"param_l2reg\":8.0,\"param_offset\":\"-\",\"param_sigma\":\"1\",\"mean_test_score\":0.15426,\"mean_train_score\":0.19691},{\"index\":29,\"qgrid_unfiltered_index\":29,\"param_degree\":\"-\",\"param_kernel\":\"RBF\",\"param_l2reg\":0.0625,\"param_offset\":\"-\",\"param_sigma\":\"10\",\"mean_test_score\":0.15833,\"mean_train_score\":0.20069},{\"index\":4,\"qgrid_unfiltered_index\":4,\"param_degree\":\"-\",\"param_kernel\":\"RBF\",\"param_l2reg\":16.0,\"param_offset\":\"-\",\"param_sigma\":\"1\",\"mean_test_score\":0.1592,\"mean_train_score\":0.20199},{\"index\":26,\"qgrid_unfiltered_index\":26,\"param_degree\":\"-\",\"param_kernel\":\"RBF\",\"param_l2reg\":0.125,\"param_offset\":\"-\",\"param_sigma\":\"10\",\"mean_test_score\":0.16048,\"mean_train_score\":0.20302},{\"index\":1,\"qgrid_unfiltered_index\":1,\"param_degree\":\"-\",\"param_kernel\":\"RBF\",\"param_l2reg\":32.0,\"param_offset\":\"-\",\"param_sigma\":\"1\",\"mean_test_score\":0.16279,\"mean_train_score\":0.20566},{\"index\":23,\"qgrid_unfiltered_index\":23,\"param_degree\":\"-\",\"param_kernel\":\"RBF\",\"param_l2reg\":0.25,\"param_offset\":\"-\",\"param_sigma\":\"10\",\"mean_test_score\":0.16292,\"mean_train_score\":0.20558},{\"index\":58,\"qgrid_unfiltered_index\":58,\"param_degree\":\"-\",\"param_kernel\":\"linear\",\"param_l2reg\":1.0,\"param_offset\":\"-\",\"param_sigma\":\"-\",\"mean_test_score\":0.16454,\"mean_train_score\":0.20651},{\"index\":59,\"qgrid_unfiltered_index\":59,\"param_degree\":\"-\",\"param_kernel\":\"linear\",\"param_l2reg\":0.01,\"param_offset\":\"-\",\"param_sigma\":\"-\",\"mean_test_score\":0.16457,\"mean_train_score\":0.2065},{\"index\":57,\"qgrid_unfiltered_index\":57,\"param_degree\":\"-\",\"param_kernel\":\"linear\",\"param_l2reg\":10.0,\"param_offset\":\"-\",\"param_sigma\":\"-\",\"mean_test_score\":0.16459,\"mean_train_score\":0.20678},{\"index\":20,\"qgrid_unfiltered_index\":20,\"param_degree\":\"-\",\"param_kernel\":\"RBF\",\"param_l2reg\":0.5,\"param_offset\":\"-\",\"param_sigma\":\"10\",\"mean_test_score\":0.16498,\"mean_train_score\":0.2077},{\"index\":17,\"qgrid_unfiltered_index\":17,\"param_degree\":\"-\",\"param_kernel\":\"RBF\",\"param_l2reg\":1.0,\"param_offset\":\"-\",\"param_sigma\":\"10\",\"mean_test_score\":0.16636,\"mean_train_score\":0.20911},{\"index\":14,\"qgrid_unfiltered_index\":14,\"param_degree\":\"-\",\"param_kernel\":\"RBF\",\"param_l2reg\":2.0,\"param_offset\":\"-\",\"param_sigma\":\"10\",\"mean_test_score\":0.16717,\"mean_train_score\":0.20994},{\"index\":11,\"qgrid_unfiltered_index\":11,\"param_degree\":\"-\",\"param_kernel\":\"RBF\",\"param_l2reg\":4.0,\"param_offset\":\"-\",\"param_sigma\":\"10\",\"mean_test_score\":0.16761,\"mean_train_score\":0.21039},{\"index\":8,\"qgrid_unfiltered_index\":8,\"param_degree\":\"-\",\"param_kernel\":\"RBF\",\"param_l2reg\":8.0,\"param_offset\":\"-\",\"param_sigma\":\"10\",\"mean_test_score\":0.16784,\"mean_train_score\":0.21062},{\"index\":5,\"qgrid_unfiltered_index\":5,\"param_degree\":\"-\",\"param_kernel\":\"RBF\",\"param_l2reg\":16.0,\"param_offset\":\"-\",\"param_sigma\":\"10\",\"mean_test_score\":0.16795,\"mean_train_score\":0.21074},{\"index\":2,\"qgrid_unfiltered_index\":2,\"param_degree\":\"-\",\"param_kernel\":\"RBF\",\"param_l2reg\":32.0,\"param_offset\":\"-\",\"param_sigma\":\"10\",\"mean_test_score\":0.16799,\"mean_train_score\":0.21081},{\"index\":51,\"qgrid_unfiltered_index\":51,\"param_degree\":\"4\",\"param_kernel\":\"polynomial\",\"param_l2reg\":0.1,\"param_offset\":\"-1\",\"param_sigma\":\"-\",\"mean_test_score\":0.18809,\"mean_train_score\":0.14836},{\"index\":30,\"qgrid_unfiltered_index\":30,\"param_degree\":\"2\",\"param_kernel\":\"polynomial\",\"param_l2reg\":10.0,\"param_offset\":\"-1\",\"param_sigma\":\"-\",\"mean_test_score\":0.20275,\"mean_train_score\":0.23915},{\"index\":39,\"qgrid_unfiltered_index\":39,\"param_degree\":\"3\",\"param_kernel\":\"polynomial\",\"param_l2reg\":10.0,\"param_offset\":\"-1\",\"param_sigma\":\"-\",\"mean_test_score\":0.21419,\"mean_train_score\":0.2562}]}",
       "_df_range": [
        0,
        100
       ],
       "_editable_rows": {},
       "_index_col_name": "qgrid_unfiltered_index",
       "_interval_columns": [],
       "_model_module_version": "^1.1.3",
       "_multi_index": false,
       "_row_count": 60,
       "_row_styles": {},
       "_sort_ascending": true,
       "_sort_field": "mean_test_score",
       "_view_module_version": "^1.1.3",
       "_viewport_range": [
        0,
        16
       ],
       "grid_options": {
        "autoEdit": false,
        "boldIndex": true,
        "defaultColumnWidth": 150,
        "editable": true,
        "enableColumnReorder": false,
        "enableTextSelectionOnCells": true,
        "explicitInitialization": true,
        "filterable": true,
        "forceFitColumns": true,
        "fullWidthRows": true,
        "highlightSelectedCell": false,
        "highlightSelectedRow": true,
        "maxVisibleRows": 15,
        "minVisibleRows": 8,
        "rowHeight": 28,
        "sortable": true,
        "syncColumnCellResize": true
       },
       "id": "f9222e7d-31a1-42b5-b9ad-fccc012427e6",
       "layout": "IPY_MODEL_f5d83043ab0e402ca58a0efa997f6ceb",
       "precision": 5,
       "show_toolbar": false
      }
     },
     "3af4c1ac6fbd42c0bdb90a33fa599ee3": {
      "model_module": "qgrid",
      "model_module_version": "^1.1.3",
      "model_name": "QgridModel",
      "state": {
       "_columns": {
        "index": {
         "cssClass": "integer first-idx-col idx-col",
         "defaultSortAsc": true,
         "editable": true,
         "field": "index",
         "first_index": true,
         "id": "index",
         "index_display_text": "",
         "is_index": true,
         "level": 0,
         "minWidth": 30,
         "name": "",
         "position": 0,
         "resizable": true,
         "sortable": true,
         "toolTip": "",
         "type": "integer"
        },
        "mean_test_score": {
         "cssClass": "number",
         "defaultSortAsc": true,
         "editable": true,
         "field": "mean_test_score",
         "id": "mean_test_score",
         "minWidth": 30,
         "name": "mean_test_score",
         "position": 7,
         "resizable": true,
         "sortable": true,
         "toolTip": "",
         "type": "number"
        },
        "mean_train_score": {
         "cssClass": "number",
         "defaultSortAsc": true,
         "editable": true,
         "field": "mean_train_score",
         "id": "mean_train_score",
         "minWidth": 30,
         "name": "mean_train_score",
         "position": 8,
         "resizable": true,
         "sortable": true,
         "toolTip": "",
         "type": "number"
        },
        "param_degree": {
         "cssClass": "string",
         "defaultSortAsc": true,
         "editable": true,
         "field": "param_degree",
         "id": "param_degree",
         "minWidth": 30,
         "name": "param_degree",
         "position": 2,
         "resizable": true,
         "sortable": true,
         "toolTip": "",
         "type": "string"
        },
        "param_kernel": {
         "cssClass": "string",
         "defaultSortAsc": true,
         "editable": true,
         "field": "param_kernel",
         "id": "param_kernel",
         "minWidth": 30,
         "name": "param_kernel",
         "position": 3,
         "resizable": true,
         "sortable": true,
         "toolTip": "",
         "type": "string"
        },
        "param_l2reg": {
         "cssClass": "number",
         "defaultSortAsc": true,
         "editable": true,
         "field": "param_l2reg",
         "id": "param_l2reg",
         "minWidth": 30,
         "name": "param_l2reg",
         "position": 4,
         "resizable": true,
         "sortable": true,
         "toolTip": "",
         "type": "number"
        },
        "param_offset": {
         "cssClass": "string",
         "defaultSortAsc": true,
         "editable": true,
         "field": "param_offset",
         "id": "param_offset",
         "minWidth": 30,
         "name": "param_offset",
         "position": 5,
         "resizable": true,
         "sortable": true,
         "toolTip": "",
         "type": "string"
        },
        "param_sigma": {
         "cssClass": "string",
         "defaultSortAsc": true,
         "editable": true,
         "field": "param_sigma",
         "id": "param_sigma",
         "minWidth": 30,
         "name": "param_sigma",
         "position": 6,
         "resizable": true,
         "sortable": true,
         "toolTip": "",
         "type": "string"
        },
        "qgrid_unfiltered_index": {
         "cssClass": "integer",
         "defaultSortAsc": true,
         "editable": true,
         "field": "qgrid_unfiltered_index",
         "id": "qgrid_unfiltered_index",
         "maxWidth": null,
         "minWidth": 30,
         "name": "qgrid_unfiltered_index",
         "position": 1,
         "resizable": true,
         "sortable": true,
         "toolTip": "",
         "type": "integer",
         "width": null
        }
       },
       "_df_json": "{\"schema\":{\"fields\":[{\"name\":\"index\",\"type\":\"integer\"},{\"name\":\"qgrid_unfiltered_index\",\"type\":\"integer\"},{\"name\":\"param_degree\",\"type\":\"string\"},{\"name\":\"param_kernel\",\"type\":\"string\"},{\"name\":\"param_l2reg\",\"type\":\"number\"},{\"name\":\"param_offset\",\"type\":\"string\"},{\"name\":\"param_sigma\",\"type\":\"string\"},{\"name\":\"mean_test_score\",\"type\":\"number\"},{\"name\":\"mean_train_score\",\"type\":\"number\"},{\"name\":\"param_degree_qgrid_sort_column\",\"type\":\"string\"}],\"primaryKey\":[\"index\"],\"pandas_version\":\"0.20.0\"},\"data\":[{\"index\":27,\"qgrid_unfiltered_index\":27,\"param_degree\":\"-\",\"param_kernel\":\"RBF\",\"param_l2reg\":0.0625,\"param_offset\":\"-\",\"param_sigma\":\"0.1\",\"mean_test_score\":0.02127,\"mean_train_score\":0.02324,\"param_degree_qgrid_sort_column\":\"-\"},{\"index\":24,\"qgrid_unfiltered_index\":24,\"param_degree\":\"-\",\"param_kernel\":\"RBF\",\"param_l2reg\":0.125,\"param_offset\":\"-\",\"param_sigma\":\"0.1\",\"mean_test_score\":0.02289,\"mean_train_score\":0.02461,\"param_degree_qgrid_sort_column\":\"-\"},{\"index\":21,\"qgrid_unfiltered_index\":21,\"param_degree\":\"-\",\"param_kernel\":\"RBF\",\"param_l2reg\":0.25,\"param_offset\":\"-\",\"param_sigma\":\"0.1\",\"mean_test_score\":0.02485,\"mean_train_score\":0.02623,\"param_degree_qgrid_sort_column\":\"-\"},{\"index\":18,\"qgrid_unfiltered_index\":18,\"param_degree\":\"-\",\"param_kernel\":\"RBF\",\"param_l2reg\":0.5,\"param_offset\":\"-\",\"param_sigma\":\"0.1\",\"mean_test_score\":0.02661,\"mean_train_score\":0.02811,\"param_degree_qgrid_sort_column\":\"-\"},{\"index\":15,\"qgrid_unfiltered_index\":15,\"param_degree\":\"-\",\"param_kernel\":\"RBF\",\"param_l2reg\":1.0,\"param_offset\":\"-\",\"param_sigma\":\"0.1\",\"mean_test_score\":0.02756,\"mean_train_score\":0.03032,\"param_degree_qgrid_sort_column\":\"-\"},{\"index\":12,\"qgrid_unfiltered_index\":12,\"param_degree\":\"-\",\"param_kernel\":\"RBF\",\"param_l2reg\":2.0,\"param_offset\":\"-\",\"param_sigma\":\"0.1\",\"mean_test_score\":0.02804,\"mean_train_score\":0.03354,\"param_degree_qgrid_sort_column\":\"-\"},{\"index\":9,\"qgrid_unfiltered_index\":9,\"param_degree\":\"-\",\"param_kernel\":\"RBF\",\"param_l2reg\":4.0,\"param_offset\":\"-\",\"param_sigma\":\"0.1\",\"mean_test_score\":0.03008,\"mean_train_score\":0.03969,\"param_degree_qgrid_sort_column\":\"-\"},{\"index\":6,\"qgrid_unfiltered_index\":6,\"param_degree\":\"-\",\"param_kernel\":\"RBF\",\"param_l2reg\":8.0,\"param_offset\":\"-\",\"param_sigma\":\"0.1\",\"mean_test_score\":0.03765,\"mean_train_score\":0.05237,\"param_degree_qgrid_sort_column\":\"-\"},{\"index\":3,\"qgrid_unfiltered_index\":3,\"param_degree\":\"-\",\"param_kernel\":\"RBF\",\"param_l2reg\":16.0,\"param_offset\":\"-\",\"param_sigma\":\"0.1\",\"mean_test_score\":0.05501,\"mean_train_score\":0.07559,\"param_degree_qgrid_sort_column\":\"-\"},{\"index\":28,\"qgrid_unfiltered_index\":28,\"param_degree\":\"-\",\"param_kernel\":\"RBF\",\"param_l2reg\":0.0625,\"param_offset\":\"-\",\"param_sigma\":\"1\",\"mean_test_score\":0.06363,\"mean_train_score\":0.09884,\"param_degree_qgrid_sort_column\":\"-\"},{\"index\":25,\"qgrid_unfiltered_index\":25,\"param_degree\":\"-\",\"param_kernel\":\"RBF\",\"param_l2reg\":0.125,\"param_offset\":\"-\",\"param_sigma\":\"1\",\"mean_test_score\":0.07025,\"mean_train_score\":0.10817,\"param_degree_qgrid_sort_column\":\"-\"},{\"index\":0,\"qgrid_unfiltered_index\":0,\"param_degree\":\"-\",\"param_kernel\":\"RBF\",\"param_l2reg\":32.0,\"param_offset\":\"-\",\"param_sigma\":\"0.1\",\"mean_test_score\":0.08172,\"mean_train_score\":0.1085,\"param_degree_qgrid_sort_column\":\"-\"},{\"index\":22,\"qgrid_unfiltered_index\":22,\"param_degree\":\"-\",\"param_kernel\":\"RBF\",\"param_l2reg\":0.25,\"param_offset\":\"-\",\"param_sigma\":\"1\",\"mean_test_score\":0.08453,\"mean_train_score\":0.12475,\"param_degree_qgrid_sort_column\":\"-\"},{\"index\":19,\"qgrid_unfiltered_index\":19,\"param_degree\":\"-\",\"param_kernel\":\"RBF\",\"param_l2reg\":0.5,\"param_offset\":\"-\",\"param_sigma\":\"1\",\"mean_test_score\":0.10434,\"mean_train_score\":0.14591,\"param_degree_qgrid_sort_column\":\"-\"},{\"index\":16,\"qgrid_unfiltered_index\":16,\"param_degree\":\"-\",\"param_kernel\":\"RBF\",\"param_l2reg\":1.0,\"param_offset\":\"-\",\"param_sigma\":\"1\",\"mean_test_score\":0.12354,\"mean_train_score\":0.16566,\"param_degree_qgrid_sort_column\":\"-\"},{\"index\":13,\"qgrid_unfiltered_index\":13,\"param_degree\":\"-\",\"param_kernel\":\"RBF\",\"param_l2reg\":2.0,\"param_offset\":\"-\",\"param_sigma\":\"1\",\"mean_test_score\":0.13797,\"mean_train_score\":0.1803,\"param_degree_qgrid_sort_column\":\"-\"},{\"index\":10,\"qgrid_unfiltered_index\":10,\"param_degree\":\"-\",\"param_kernel\":\"RBF\",\"param_l2reg\":4.0,\"param_offset\":\"-\",\"param_sigma\":\"1\",\"mean_test_score\":0.14761,\"mean_train_score\":0.1901,\"param_degree_qgrid_sort_column\":\"-\"},{\"index\":7,\"qgrid_unfiltered_index\":7,\"param_degree\":\"-\",\"param_kernel\":\"RBF\",\"param_l2reg\":8.0,\"param_offset\":\"-\",\"param_sigma\":\"1\",\"mean_test_score\":0.15426,\"mean_train_score\":0.19691,\"param_degree_qgrid_sort_column\":\"-\"},{\"index\":29,\"qgrid_unfiltered_index\":29,\"param_degree\":\"-\",\"param_kernel\":\"RBF\",\"param_l2reg\":0.0625,\"param_offset\":\"-\",\"param_sigma\":\"10\",\"mean_test_score\":0.15833,\"mean_train_score\":0.20069,\"param_degree_qgrid_sort_column\":\"-\"},{\"index\":4,\"qgrid_unfiltered_index\":4,\"param_degree\":\"-\",\"param_kernel\":\"RBF\",\"param_l2reg\":16.0,\"param_offset\":\"-\",\"param_sigma\":\"1\",\"mean_test_score\":0.1592,\"mean_train_score\":0.20199,\"param_degree_qgrid_sort_column\":\"-\"},{\"index\":26,\"qgrid_unfiltered_index\":26,\"param_degree\":\"-\",\"param_kernel\":\"RBF\",\"param_l2reg\":0.125,\"param_offset\":\"-\",\"param_sigma\":\"10\",\"mean_test_score\":0.16048,\"mean_train_score\":0.20302,\"param_degree_qgrid_sort_column\":\"-\"},{\"index\":1,\"qgrid_unfiltered_index\":1,\"param_degree\":\"-\",\"param_kernel\":\"RBF\",\"param_l2reg\":32.0,\"param_offset\":\"-\",\"param_sigma\":\"1\",\"mean_test_score\":0.16279,\"mean_train_score\":0.20566,\"param_degree_qgrid_sort_column\":\"-\"},{\"index\":23,\"qgrid_unfiltered_index\":23,\"param_degree\":\"-\",\"param_kernel\":\"RBF\",\"param_l2reg\":0.25,\"param_offset\":\"-\",\"param_sigma\":\"10\",\"mean_test_score\":0.16292,\"mean_train_score\":0.20558,\"param_degree_qgrid_sort_column\":\"-\"},{\"index\":20,\"qgrid_unfiltered_index\":20,\"param_degree\":\"-\",\"param_kernel\":\"RBF\",\"param_l2reg\":0.5,\"param_offset\":\"-\",\"param_sigma\":\"10\",\"mean_test_score\":0.16498,\"mean_train_score\":0.2077,\"param_degree_qgrid_sort_column\":\"-\"},{\"index\":17,\"qgrid_unfiltered_index\":17,\"param_degree\":\"-\",\"param_kernel\":\"RBF\",\"param_l2reg\":1.0,\"param_offset\":\"-\",\"param_sigma\":\"10\",\"mean_test_score\":0.16636,\"mean_train_score\":0.20911,\"param_degree_qgrid_sort_column\":\"-\"},{\"index\":14,\"qgrid_unfiltered_index\":14,\"param_degree\":\"-\",\"param_kernel\":\"RBF\",\"param_l2reg\":2.0,\"param_offset\":\"-\",\"param_sigma\":\"10\",\"mean_test_score\":0.16717,\"mean_train_score\":0.20994,\"param_degree_qgrid_sort_column\":\"-\"},{\"index\":11,\"qgrid_unfiltered_index\":11,\"param_degree\":\"-\",\"param_kernel\":\"RBF\",\"param_l2reg\":4.0,\"param_offset\":\"-\",\"param_sigma\":\"10\",\"mean_test_score\":0.16761,\"mean_train_score\":0.21039,\"param_degree_qgrid_sort_column\":\"-\"},{\"index\":8,\"qgrid_unfiltered_index\":8,\"param_degree\":\"-\",\"param_kernel\":\"RBF\",\"param_l2reg\":8.0,\"param_offset\":\"-\",\"param_sigma\":\"10\",\"mean_test_score\":0.16784,\"mean_train_score\":0.21062,\"param_degree_qgrid_sort_column\":\"-\"},{\"index\":5,\"qgrid_unfiltered_index\":5,\"param_degree\":\"-\",\"param_kernel\":\"RBF\",\"param_l2reg\":16.0,\"param_offset\":\"-\",\"param_sigma\":\"10\",\"mean_test_score\":0.16795,\"mean_train_score\":0.21074,\"param_degree_qgrid_sort_column\":\"-\"},{\"index\":2,\"qgrid_unfiltered_index\":2,\"param_degree\":\"-\",\"param_kernel\":\"RBF\",\"param_l2reg\":32.0,\"param_offset\":\"-\",\"param_sigma\":\"10\",\"mean_test_score\":0.16799,\"mean_train_score\":0.21081,\"param_degree_qgrid_sort_column\":\"-\"}]}",
       "_df_range": [
        0,
        100
       ],
       "_editable_rows": {},
       "_index_col_name": "qgrid_unfiltered_index",
       "_interval_columns": [],
       "_model_module_version": "^1.1.3",
       "_multi_index": false,
       "_row_count": 30,
       "_row_styles": {},
       "_sort_ascending": true,
       "_sort_field": "mean_test_score",
       "_view_module_version": "^1.1.3",
       "_viewport_range": [
        0,
        16
       ],
       "grid_options": {
        "autoEdit": false,
        "boldIndex": true,
        "defaultColumnWidth": 150,
        "editable": true,
        "enableColumnReorder": false,
        "enableTextSelectionOnCells": true,
        "explicitInitialization": true,
        "filterable": true,
        "forceFitColumns": true,
        "fullWidthRows": true,
        "highlightSelectedCell": false,
        "highlightSelectedRow": true,
        "maxVisibleRows": 15,
        "minVisibleRows": 8,
        "rowHeight": 28,
        "sortable": true,
        "syncColumnCellResize": true
       },
       "id": "0c01bd5b-d046-48e3-ac95-576e158c70a1",
       "layout": "IPY_MODEL_12a88b574ecd40839c4f00cfbf5fe46d",
       "precision": 5,
       "show_toolbar": false
      }
     },
     "67e9ae7c108e4669a614c9397680093f": {
      "model_module": "qgrid",
      "model_module_version": "^1.1.3",
      "model_name": "QgridModel",
      "state": {
       "_columns": {
        "index": {
         "cssClass": "integer first-idx-col idx-col",
         "defaultSortAsc": true,
         "editable": true,
         "field": "index",
         "first_index": true,
         "id": "index",
         "index_display_text": "",
         "is_index": true,
         "level": 0,
         "minWidth": 30,
         "name": "",
         "position": 0,
         "resizable": true,
         "sortable": true,
         "toolTip": "",
         "type": "integer"
        },
        "mean_test_score": {
         "cssClass": "number",
         "defaultSortAsc": true,
         "editable": true,
         "field": "mean_test_score",
         "id": "mean_test_score",
         "minWidth": 30,
         "name": "mean_test_score",
         "position": 7,
         "resizable": true,
         "sortable": true,
         "toolTip": "",
         "type": "number"
        },
        "mean_train_score": {
         "cssClass": "number",
         "defaultSortAsc": true,
         "editable": true,
         "field": "mean_train_score",
         "id": "mean_train_score",
         "minWidth": 30,
         "name": "mean_train_score",
         "position": 8,
         "resizable": true,
         "sortable": true,
         "toolTip": "",
         "type": "number"
        },
        "param_degree": {
         "cssClass": "string",
         "defaultSortAsc": true,
         "editable": true,
         "field": "param_degree",
         "id": "param_degree",
         "minWidth": 30,
         "name": "param_degree",
         "position": 2,
         "resizable": true,
         "sortable": true,
         "toolTip": "",
         "type": "string"
        },
        "param_kernel": {
         "cssClass": "string",
         "defaultSortAsc": true,
         "editable": true,
         "field": "param_kernel",
         "id": "param_kernel",
         "minWidth": 30,
         "name": "param_kernel",
         "position": 3,
         "resizable": true,
         "sortable": true,
         "toolTip": "",
         "type": "string"
        },
        "param_l2reg": {
         "cssClass": "number",
         "defaultSortAsc": true,
         "editable": true,
         "field": "param_l2reg",
         "id": "param_l2reg",
         "minWidth": 30,
         "name": "param_l2reg",
         "position": 4,
         "resizable": true,
         "sortable": true,
         "toolTip": "",
         "type": "number"
        },
        "param_offset": {
         "cssClass": "string",
         "defaultSortAsc": true,
         "editable": true,
         "field": "param_offset",
         "id": "param_offset",
         "minWidth": 30,
         "name": "param_offset",
         "position": 5,
         "resizable": true,
         "sortable": true,
         "toolTip": "",
         "type": "string"
        },
        "param_sigma": {
         "cssClass": "string",
         "defaultSortAsc": true,
         "editable": true,
         "field": "param_sigma",
         "id": "param_sigma",
         "minWidth": 30,
         "name": "param_sigma",
         "position": 6,
         "resizable": true,
         "sortable": true,
         "toolTip": "",
         "type": "string"
        },
        "qgrid_unfiltered_index": {
         "cssClass": "integer",
         "defaultSortAsc": true,
         "editable": true,
         "field": "qgrid_unfiltered_index",
         "id": "qgrid_unfiltered_index",
         "maxWidth": null,
         "minWidth": 30,
         "name": "qgrid_unfiltered_index",
         "position": 1,
         "resizable": true,
         "sortable": true,
         "toolTip": "",
         "type": "integer",
         "width": null
        }
       },
       "_df_json": "{\"schema\":{\"fields\":[{\"name\":\"index\",\"type\":\"integer\"},{\"name\":\"qgrid_unfiltered_index\",\"type\":\"integer\"},{\"name\":\"param_degree\",\"type\":\"string\"},{\"name\":\"param_kernel\",\"type\":\"string\"},{\"name\":\"param_l2reg\",\"type\":\"number\"},{\"name\":\"param_offset\",\"type\":\"string\"},{\"name\":\"param_sigma\",\"type\":\"string\"},{\"name\":\"mean_test_score\",\"type\":\"number\"},{\"name\":\"mean_train_score\",\"type\":\"number\"}],\"primaryKey\":[\"index\"],\"pandas_version\":\"0.20.0\"},\"data\":[{\"index\":58,\"qgrid_unfiltered_index\":58,\"param_degree\":\"-\",\"param_kernel\":\"linear\",\"param_l2reg\":1.0,\"param_offset\":\"-\",\"param_sigma\":\"-\",\"mean_test_score\":0.16454,\"mean_train_score\":0.20651},{\"index\":59,\"qgrid_unfiltered_index\":59,\"param_degree\":\"-\",\"param_kernel\":\"linear\",\"param_l2reg\":0.01,\"param_offset\":\"-\",\"param_sigma\":\"-\",\"mean_test_score\":0.16457,\"mean_train_score\":0.2065},{\"index\":57,\"qgrid_unfiltered_index\":57,\"param_degree\":\"-\",\"param_kernel\":\"linear\",\"param_l2reg\":10.0,\"param_offset\":\"-\",\"param_sigma\":\"-\",\"mean_test_score\":0.16459,\"mean_train_score\":0.20678}]}",
       "_df_range": [
        0,
        100
       ],
       "_editable_rows": {},
       "_index_col_name": "qgrid_unfiltered_index",
       "_interval_columns": [],
       "_model_module_version": "^1.1.3",
       "_multi_index": false,
       "_row_count": 3,
       "_row_styles": {},
       "_sort_ascending": true,
       "_sort_field": "mean_test_score",
       "_view_module_version": "^1.1.3",
       "_viewport_range": [
        0,
        16
       ],
       "grid_options": {
        "autoEdit": false,
        "boldIndex": true,
        "defaultColumnWidth": 150,
        "editable": true,
        "enableColumnReorder": false,
        "enableTextSelectionOnCells": true,
        "explicitInitialization": true,
        "filterable": true,
        "forceFitColumns": true,
        "fullWidthRows": true,
        "highlightSelectedCell": false,
        "highlightSelectedRow": true,
        "maxVisibleRows": 15,
        "minVisibleRows": 8,
        "rowHeight": 28,
        "sortable": true,
        "syncColumnCellResize": true
       },
       "id": "db08ed0b-e5f4-4f96-9d33-6af2848c0942",
       "layout": "IPY_MODEL_755536919212417eaea0f37d22722f9e",
       "precision": 5,
       "show_toolbar": false
      }
     },
     "755536919212417eaea0f37d22722f9e": {
      "model_module": "@jupyter-widgets/base",
      "model_module_version": "1.2.0",
      "model_name": "LayoutModel",
      "state": {}
     },
     "f5d83043ab0e402ca58a0efa997f6ceb": {
      "model_module": "@jupyter-widgets/base",
      "model_module_version": "1.2.0",
      "model_name": "LayoutModel",
      "state": {}
     }
    },
    "version_major": 2,
    "version_minor": 0
   }
  }
 },
 "nbformat": 4,
 "nbformat_minor": 5
}
